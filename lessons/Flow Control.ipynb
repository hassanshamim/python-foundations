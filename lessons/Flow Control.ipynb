{
 "cells": [
  {
   "cell_type": "markdown",
   "metadata": {
    "nbpresent": {
     "id": "d637990d-73b3-4512-9c49-4d1f95889c55"
    }
   },
   "source": [
    "# LESSON 4 - Flow Control\n",
    " - See [Chapter 2](https://automatetheboringstuff.com/chapter2/) of Automate the Boring Stuff (first half)\n",
    " - See [Chapter 5](http://greenteapress.com/thinkpython/html/thinkpython006.html) in Think Python (You can ignore the parts on recursion)\n",
    "    "
   ]
  },
  {
   "cell_type": "markdown",
   "metadata": {
    "nbpresent": {
     "id": "d04d1b70-d33f-4857-bc18-0ee3a6bab3e3"
    }
   },
   "source": [
    "# Flow Control\n",
    "- Telling your program *when* to run a line of code (not just in order)\n",
    "- Have to make decisions based on *something*\n",
    "## Example:\n",
    "![Example](https://automatetheboringstuff.com/images/000105.jpg)"
   ]
  },
  {
   "cell_type": "markdown",
   "metadata": {
    "nbpresent": {
     "id": "063b060a-658d-40d3-8924-6d13c42b67bf"
    }
   },
   "source": [
    "## Boolean Values\n",
    "- `True` and `False` (Notice the capitalization)\n",
    "\n",
    "\n",
    "### False Values\n",
    "- None\n",
    "- False\n",
    "- empty data structures: i.e. `''`, `[]`, `()`\n",
    "\n",
    "\n",
    "### True Values\n",
    "- True\n",
    "- Everything else"
   ]
  },
  {
   "cell_type": "markdown",
   "metadata": {
    "nbpresent": {
     "id": "f7eaaae5-7214-4d78-96e8-3c6828e970b7"
    }
   },
   "source": [
    "## Comparison Operators\n",
    "Used for comparing!  Always return a Boolean Value.\n",
    "- `==` equals\n",
    "- `!==` not equals\n",
    "- `<` less than\n",
    "- `>` greater than\n",
    "- `<=` less than or equals\n",
    "- `>=` greater than or equals\n",
    "\n",
    "Let's try some!"
   ]
  },
  {
   "cell_type": "code",
   "execution_count": null,
   "metadata": {},
   "outputs": [],
   "source": [
    "time_of_visit = 15\n",
    "9 < time_of_visit < 18\n",
    "9 < time_of_visit and time_of_visit < 18\n"
   ]
  },
  {
   "cell_type": "code",
   "execution_count": null,
   "metadata": {
    "nbpresent": {
     "id": "2d8ae656-faff-435f-8665-ecfa5f8eeb5b"
    }
   },
   "outputs": [],
   "source": [
    "5 <= 3"
   ]
  },
  {
   "cell_type": "code",
   "execution_count": null,
   "metadata": {},
   "outputs": [],
   "source": [
    "4 != 3"
   ]
  },
  {
   "cell_type": "code",
   "execution_count": null,
   "metadata": {},
   "outputs": [],
   "source": [
    "num_children =  0\n",
    "num_children <= 2.4"
   ]
  },
  {
   "cell_type": "code",
   "execution_count": null,
   "metadata": {
    "nbpresent": {
     "id": "465b49fb-8d31-4e15-b7a7-95e888b886aa"
    }
   },
   "outputs": [],
   "source": [
    "-1 != 1"
   ]
  },
  {
   "cell_type": "code",
   "execution_count": null,
   "metadata": {
    "nbpresent": {
     "id": "f7c518b5-5664-485e-8585-355600137783"
    }
   },
   "outputs": [],
   "source": [
    "0 >= 0"
   ]
  },
  {
   "cell_type": "code",
   "execution_count": null,
   "metadata": {
    "collapsed": true,
    "nbpresent": {
     "id": "55dac333-a04b-491a-8205-413f5a2afe34"
    }
   },
   "outputs": [],
   "source": [
    "me = 'hassan'\n",
    "other = 'bob'\n"
   ]
  },
  {
   "cell_type": "code",
   "execution_count": null,
   "metadata": {},
   "outputs": [],
   "source": [
    "'Z' != 'a'"
   ]
  },
  {
   "cell_type": "code",
   "execution_count": null,
   "metadata": {
    "nbpresent": {
     "id": "f9f80497-29db-4593-b25c-37069cc508e2"
    }
   },
   "outputs": [],
   "source": [
    "3 == 3.0"
   ]
  },
  {
   "cell_type": "code",
   "execution_count": null,
   "metadata": {
    "nbpresent": {
     "id": "3e9d5396-ce36-44cf-871f-5facb130627b"
    }
   },
   "outputs": [],
   "source": [
    "3 = 3"
   ]
  },
  {
   "cell_type": "markdown",
   "metadata": {},
   "source": [
    "### Review:\n",
    "What's the difference between `=` and `==`?"
   ]
  },
  {
   "cell_type": "markdown",
   "metadata": {},
   "source": [
    "## Boolean Operators\n",
    "- **and**, **or** (Binary)\n",
    "- **not** (Unary)\n",
    "- In order of precedence: `and or not`\n",
    "\n",
    "I could explain what these do, but finding out ourselves with a truth table is just as easy."
   ]
  },
  {
   "cell_type": "code",
   "execution_count": null,
   "metadata": {},
   "outputs": [],
   "source": [
    "# I'll start\n",
    "True and True"
   ]
  },
  {
   "cell_type": "code",
   "execution_count": null,
   "metadata": {
    "scrolled": true
   },
   "outputs": [],
   "source": [
    "False and True"
   ]
  },
  {
   "cell_type": "code",
   "execution_count": null,
   "metadata": {},
   "outputs": [],
   "source": [
    "False and True"
   ]
  },
  {
   "cell_type": "raw",
   "metadata": {},
   "source": [
    "False and False"
   ]
  },
  {
   "cell_type": "code",
   "execution_count": null,
   "metadata": {},
   "outputs": [],
   "source": [
    "True or True"
   ]
  },
  {
   "cell_type": "code",
   "execution_count": null,
   "metadata": {},
   "outputs": [],
   "source": [
    "False or True"
   ]
  },
  {
   "cell_type": "code",
   "execution_count": null,
   "metadata": {
    "scrolled": true
   },
   "outputs": [],
   "source": [
    "True or False"
   ]
  },
  {
   "cell_type": "code",
   "execution_count": null,
   "metadata": {
    "scrolled": true
   },
   "outputs": [],
   "source": [
    "False or False"
   ]
  },
  {
   "cell_type": "code",
   "execution_count": null,
   "metadata": {
    "scrolled": true
   },
   "outputs": [],
   "source": [
    "not True"
   ]
  },
  {
   "cell_type": "code",
   "execution_count": null,
   "metadata": {},
   "outputs": [],
   "source": [
    "not False"
   ]
  },
  {
   "cell_type": "code",
   "execution_count": null,
   "metadata": {},
   "outputs": [],
   "source": [
    "age = 20\n",
    "not age > 18"
   ]
  },
  {
   "cell_type": "code",
   "execution_count": null,
   "metadata": {},
   "outputs": [],
   "source": [
    "bool(3)"
   ]
  },
  {
   "cell_type": "code",
   "execution_count": null,
   "metadata": {},
   "outputs": [],
   "source": [
    "bool(3.13)"
   ]
  },
  {
   "cell_type": "code",
   "execution_count": null,
   "metadata": {},
   "outputs": [],
   "source": [
    "myage > 18 and len(input) != 0"
   ]
  },
  {
   "cell_type": "code",
   "execution_count": null,
   "metadata": {},
   "outputs": [],
   "source": [
    "age"
   ]
  },
  {
   "cell_type": "markdown",
   "metadata": {},
   "source": [
    "### A Note on `not not` and `bool`:"
   ]
  },
  {
   "cell_type": "markdown",
   "metadata": {},
   "source": [
    "## Mixing Boolean and Comparison Operators"
   ]
  },
  {
   "cell_type": "code",
   "execution_count": null,
   "metadata": {},
   "outputs": [],
   "source": [
    "# Abritrary example:\n",
    "(3 < 4) or (0 == 30)"
   ]
  },
  {
   "cell_type": "code",
   "execution_count": null,
   "metadata": {},
   "outputs": [],
   "source": [
    "# Longer arbitrary example\n",
    "2 + 2 == 4 and not 2 + 2 == 5 and 2 * 2 == 2 + 2"
   ]
  },
  {
   "cell_type": "code",
   "execution_count": null,
   "metadata": {},
   "outputs": [],
   "source": [
    "4 == 4 and  4 != 5 and 4 == 4"
   ]
  },
  {
   "cell_type": "code",
   "execution_count": null,
   "metadata": {},
   "outputs": [],
   "source": [
    "True and not False and True"
   ]
  },
  {
   "cell_type": "code",
   "execution_count": null,
   "metadata": {},
   "outputs": [],
   "source": [
    "True and True and True"
   ]
  },
  {
   "cell_type": "code",
   "execution_count": null,
   "metadata": {
    "scrolled": true
   },
   "outputs": [],
   "source": [
    "True and True\n"
   ]
  },
  {
   "cell_type": "code",
   "execution_count": null,
   "metadata": {},
   "outputs": [],
   "source": [
    "(not 4) == 5"
   ]
  },
  {
   "cell_type": "code",
   "execution_count": null,
   "metadata": {},
   "outputs": [],
   "source": [
    "# Longer arbitrary example\n",
    "2 + 2 == 4 and not 2 + 2 == 5 and 2 * 2 == 2 + 2"
   ]
  },
  {
   "cell_type": "code",
   "execution_count": null,
   "metadata": {},
   "outputs": [],
   "source": [
    "# Can we eat pizza everyday?\n",
    "age_of_maturity = \n",
    "my_age =  #\n",
    "my_age >= 18 and my_age < age_of_maturity"
   ]
  },
  {
   "cell_type": "markdown",
   "metadata": {},
   "source": [
    "## Elements of Flow Control:\n",
    "1. Conditions\n",
    " - Evaluate down to a boolean (True or False)\n",
    " - One or more comparison/boolean operators\n",
    "2. Block of code\n",
    " - What gets run when condition is met\n",
    " - Separated by indentation (4 spaces by convention)\n",
    " - Can contain other conditions/blocks\n",
    " - end when indentation stops or goes back to a parent block's indendtation level"
   ]
  },
  {
   "cell_type": "code",
   "execution_count": null,
   "metadata": {
    "collapsed": true
   },
   "outputs": [],
   "source": [
    "my_age = 0\n",
    "my_name = 'Hassan'\n",
    "if my_name != 'Hassan':\n",
    "    print('You are not Hassan')\n",
    "    if my_age % 10 == 0:\n",
    "        print(\"But it's a big year for you eh?\")\n",
    "    else:\n",
    "        print(str(my_age) + \" isn't a big deal.\")"
   ]
  },
  {
   "cell_type": "markdown",
   "metadata": {},
   "source": [
    "## Flow Control Statements:\n"
   ]
  },
  {
   "cell_type": "markdown",
   "metadata": {},
   "source": [
    "- `if` - executes block when condition is `True`\n",
    "- `else` (optional) - no specific condition.  Executes if previous conditions are not met.  Is the 'fallback'\n",
    "- `elif` (optional) - follows an `if`, takes a condition.  Only checks condition if previous `if` condition was False.  Multiple `elif`s are fine."
   ]
  },
  {
   "cell_type": "markdown",
   "metadata": {},
   "source": [
    "Let's try adding an `elif` to our previous condition and output a different message if your age ends in 9"
   ]
  },
  {
   "cell_type": "code",
   "execution_count": null,
   "metadata": {
    "collapsed": true
   },
   "outputs": [],
   "source": []
  },
  {
   "cell_type": "markdown",
   "metadata": {},
   "source": [
    "## Practice Questions\n",
    "1. Name the two types of Boolean Values\n",
    "2. Write a Truth table of the boolean operators (every possible combination of boolean values to an operator and what they evaluate to)\n",
    "3. What do the following expressions evaluate to?\n",
    "\n",
    "\n",
    "- (5 > 4) and (3 == 5)\n",
    "- not (5 > 4)\n",
    "- (5 > 4) or (3 == 5)\n",
    "- not ((5 > 4) or (3 == 5))\n",
    "- (True and True) and (True == False)\n",
    "- (not False) or (not True)\n",
    "\n",
    "\n",
    "1. Explain what a condition is and where you would use one.\n",
    "2. 8. Identify the three blocks in this code:\n",
    "\n",
    "```\n",
    "spam = 0\n",
    "if spam == 10:\n",
    "    print('eggs')\n",
    "    if spam > 5:\n",
    "        print('bacon')\n",
    "    else:\n",
    "        print('ham')\n",
    "    print('spam')\n",
    "print('spam')\n",
    "```\n",
    "\n",
    "3. What's the difference between an assignment operator and the equal operator?  Which is an expression?"
   ]
  },
  {
   "cell_type": "markdown",
   "metadata": {},
   "source": [
    "## Practice Problems"
   ]
  },
  {
   "cell_type": "markdown",
   "metadata": {},
   "source": [
    "#### Collatz Conjecture\n",
    "![relevant xkcd](https://imgs.xkcd.com/comics/collatz_conjecture.png)\n",
    "\n",
    "Actually says:\n",
    "1. If the number is even, divide it by two.\n",
    "2. If the number is odd, triple it and add one.\n",
    "3. This process will always end in the number `1`\n",
    "\n",
    "\n",
    "Write a program that takes a number from 1 to 100 and prints out the steps of the collatz sequence.  The last value printed should be 1."
   ]
  },
  {
   "cell_type": "markdown",
   "metadata": {},
   "source": [
    "#### FizzBuzz\n",
    "For the numbers 1 through 100\n",
    "- If the number is divisible by 3 print 'Fizz'\n",
    "- If the number is divisible by 5 print 'Buzz'\n",
    "- If the number is divisible by both 3 and 5 print 'FizzBuzz'\n",
    "- otherwis, print the number"
   ]
  },
  {
   "cell_type": "markdown",
   "metadata": {
    "collapsed": true
   },
   "source": [
    "#### Leap Year:\n",
    "1. Years not divisible by 4 are leap years.\n",
    "2. Years divisble by 100 are also common years\n",
    "3. Years divisible by 400 are always leap years\n"
   ]
  }
 ],
 "metadata": {
  "anaconda-cloud": {},
  "kernelspec": {
   "display_name": "Python 3",
   "language": "python",
   "name": "python3"
  },
  "language_info": {
   "codemirror_mode": {
    "name": "ipython",
    "version": 3
   },
   "file_extension": ".py",
   "mimetype": "text/x-python",
   "name": "python",
   "nbconvert_exporter": "python",
   "pygments_lexer": "ipython3",
   "version": "3.6.1"
  }
 },
 "nbformat": 4,
 "nbformat_minor": 1
}
