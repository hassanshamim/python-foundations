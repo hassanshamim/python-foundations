{
 "cells": [
  {
   "cell_type": "markdown",
   "metadata": {},
   "source": [
    "\n",
    "\n",
    "### External References:\n",
    "- sets\n",
    "    - http://www.diveintopython3.net/native-datatypes.html#sets\n",
    "    - https://docs.python.org/3/tutorial/datastructures.html#sets\n",
    "- dictionaries\n",
    "    - https://automatetheboringstuff.com/chapter5/ (first half)\n",
    "    - http://www.diveintopython3.net/native-datatypes.html#dictionaries\n",
    "    - http://greenteapress.com/thinkpython/html/thinkpython012.html\n",
    "\n",
    "    "
   ]
  },
  {
   "cell_type": "markdown",
   "metadata": {},
   "source": [
    "# Sets (set)\n",
    "- mutable\n",
    "- Can only contain immutable values\n",
    "  - tuple, str, int, float, bool\n",
    "- unordered\n",
    "- cannot contain duplicates\n",
    "- REALLY fast for checking whether objects are in the collection or not\n",
    "- useful for venn-diagram like questions\n",
    "    - i.e. what items are in this collection that aren't in this collection\n",
    "    - what items are in both collections?\n",
    "- Surrounded with brackets {}\n"
   ]
  },
  {
   "cell_type": "code",
   "execution_count": null,
   "metadata": {},
   "outputs": [],
   "source": [
    "# Creating an empty set\n",
    "example = set()\n",
    "\n",
    "len(example)"
   ]
  },
  {
   "cell_type": "markdown",
   "metadata": {},
   "source": [
    "Adding values to a set one at a time"
   ]
  },
  {
   "cell_type": "code",
   "execution_count": null,
   "metadata": {
    "scrolled": true
   },
   "outputs": [],
   "source": [
    "example.add(3)\n",
    "example.add(4)\n",
    "example"
   ]
  },
  {
   "cell_type": "markdown",
   "metadata": {},
   "source": [
    "Adding a value already in a set has no effect."
   ]
  },
  {
   "cell_type": "code",
   "execution_count": null,
   "metadata": {
    "scrolled": true
   },
   "outputs": [],
   "source": [
    "example.add(3) # 3 is already in there, so nothing changes\n",
    "example"
   ]
  },
  {
   "cell_type": "markdown",
   "metadata": {},
   "source": [
    "Removing things from a set mutates it."
   ]
  },
  {
   "cell_type": "code",
   "execution_count": null,
   "metadata": {
    "scrolled": true
   },
   "outputs": [],
   "source": [
    "# removing things\n",
    "example.remove(3)\n",
    "example"
   ]
  },
  {
   "cell_type": "markdown",
   "metadata": {},
   "source": [
    "Check for inclusion just like other containers"
   ]
  },
  {
   "cell_type": "code",
   "execution_count": null,
   "metadata": {
    "scrolled": true
   },
   "outputs": [],
   "source": [
    "4 in example"
   ]
  },
  {
   "cell_type": "markdown",
   "metadata": {},
   "source": [
    "Type-casting to a set.\n",
    "Works on any sequence."
   ]
  },
  {
   "cell_type": "code",
   "execution_count": null,
   "metadata": {},
   "outputs": [],
   "source": [
    "hello = 'hello'\n",
    "set(hello)"
   ]
  },
  {
   "cell_type": "code",
   "execution_count": null,
   "metadata": {},
   "outputs": [],
   "source": [
    "duplicates = [1, 1, 1, 0, 0, 2, 0, 2]\n",
    "set(duplicates)"
   ]
  },
  {
   "cell_type": "markdown",
   "metadata": {},
   "source": [
    "Sets are most useful when you have 2 sets of data."
   ]
  },
  {
   "cell_type": "code",
   "execution_count": null,
   "metadata": {
    "collapsed": true
   },
   "outputs": [],
   "source": [
    "target_word = set('horse')\n",
    "guessed = set('hnsje')"
   ]
  },
  {
   "cell_type": "markdown",
   "metadata": {},
   "source": [
    "What guessed letters are correct?\n",
    "aka. what values in guessed also appear in target_word?"
   ]
  },
  {
   "cell_type": "code",
   "execution_count": null,
   "metadata": {},
   "outputs": [],
   "source": [
    "guessed.intersection(target_word)"
   ]
  },
  {
   "cell_type": "code",
   "execution_count": null,
   "metadata": {},
   "outputs": [],
   "source": [
    "guessed & target_word # & is special operator for sets.  It means intersection"
   ]
  },
  {
   "cell_type": "markdown",
   "metadata": {},
   "source": [
    "What what guessed letters are not correct?\n",
    "\n",
    "aka what letters appear in guessed but not target_word?"
   ]
  },
  {
   "cell_type": "code",
   "execution_count": null,
   "metadata": {},
   "outputs": [],
   "source": [
    "guessed.difference(target_word)"
   ]
  },
  {
   "cell_type": "code",
   "execution_count": null,
   "metadata": {},
   "outputs": [],
   "source": [
    "guessed - target_word"
   ]
  },
  {
   "cell_type": "markdown",
   "metadata": {},
   "source": [
    "What correct letters have not been guessed?\n",
    "aka What letters appear in target word but not guessed?"
   ]
  },
  {
   "cell_type": "code",
   "execution_count": null,
   "metadata": {},
   "outputs": [],
   "source": [
    "target_word.difference(guessed)"
   ]
  },
  {
   "cell_type": "code",
   "execution_count": null,
   "metadata": {},
   "outputs": [],
   "source": [
    "target_word - guessed"
   ]
  },
  {
   "cell_type": "markdown",
   "metadata": {},
   "source": [
    "What are all the letters that have been guessed or are in target word?"
   ]
  },
  {
   "cell_type": "code",
   "execution_count": null,
   "metadata": {},
   "outputs": [],
   "source": [
    "target_word.union(guessed)"
   ]
  },
  {
   "cell_type": "markdown",
   "metadata": {},
   "source": [
    "Can be converted and looped over just like other containers"
   ]
  },
  {
   "cell_type": "code",
   "execution_count": null,
   "metadata": {},
   "outputs": [],
   "source": [
    "list(target_word)"
   ]
  },
  {
   "cell_type": "code",
   "execution_count": null,
   "metadata": {},
   "outputs": [],
   "source": [
    "for letter in target_word:\n",
    "    print(letter, 'is in our goal')"
   ]
  },
  {
   "cell_type": "markdown",
   "metadata": {},
   "source": [
    "Sets are **unordered** meaning no indexing like strings, lists, and tuples"
   ]
  },
  {
   "cell_type": "code",
   "execution_count": null,
   "metadata": {},
   "outputs": [],
   "source": [
    "target_word[0]"
   ]
  },
  {
   "cell_type": "markdown",
   "metadata": {},
   "source": [
    "But remember, no mutable data!"
   ]
  },
  {
   "cell_type": "code",
   "execution_count": null,
   "metadata": {},
   "outputs": [],
   "source": [
    "s = set()\n",
    "s.add([])"
   ]
  },
  {
   "cell_type": "code",
   "execution_count": null,
   "metadata": {},
   "outputs": [],
   "source": [
    "s.add(set())"
   ]
  },
  {
   "cell_type": "markdown",
   "metadata": {},
   "source": [
    "# Dictionary data type\n",
    "\n",
    "- `dict` in python\n",
    "- also called `associative array` and `hash` in other languages.\n",
    "- accessed with a `key`, not an index.\n",
    "- keys are unique, immutable.\n",
    "- keys can be: strings, tuples, numbers\n",
    "- values can be anything.\n",
    "- represented with curly braces in python. `{}`\n",
    "\n",
    "A dictionary is a data structure which associates (or maps) a `key` to a `value`.  The keys of a dictionary are analogous to the variables we use in our code.  They are simply a reference to a value.  A dictionary is a collection of these references.\n",
    "\n",
    "Key takeaway is that **dictionaries associate one value with another**.  That is most often why we use them."
   ]
  },
  {
   "cell_type": "code",
   "execution_count": null,
   "metadata": {},
   "outputs": [],
   "source": [
    "# Creating a dict with braces literal\n",
    "example_literal = {'vowels': 'aeiouy', 'date': '11-8-2016'}\n",
    "example_literal"
   ]
  },
  {
   "cell_type": "code",
   "execution_count": null,
   "metadata": {
    "scrolled": true
   },
   "outputs": [],
   "source": [
    "# Creating a dict with the dict function\n",
    "example_from_function = dict(vowels='aeiouy', date='11-8-2016')\n",
    "example_from_function"
   ]
  },
  {
   "cell_type": "markdown",
   "metadata": {},
   "source": [
    "We access data from our dictionary based on its **key**, not index\n",
    "\n",
    "Format is:\n",
    "\n",
    "`dictionary[key_name]`"
   ]
  },
  {
   "cell_type": "code",
   "execution_count": null,
   "metadata": {},
   "outputs": [],
   "source": [
    "example_from_function['vowels']"
   ]
  },
  {
   "cell_type": "code",
   "execution_count": null,
   "metadata": {
    "scrolled": true
   },
   "outputs": [],
   "source": [
    "print(example_from_function['vowels'])\n",
    "print(\"Today's date is\", example_literal['date'])"
   ]
  },
  {
   "cell_type": "markdown",
   "metadata": {},
   "source": [
    "Accessing a key that isn't in the dictionary raises an error"
   ]
  },
  {
   "cell_type": "code",
   "execution_count": null,
   "metadata": {
    "scrolled": true
   },
   "outputs": [],
   "source": [
    "example_from_function['not a key']"
   ]
  },
  {
   "cell_type": "markdown",
   "metadata": {},
   "source": [
    "We can add new key, value pairs to our dictionary by assigning values to that key"
   ]
  },
  {
   "cell_type": "code",
   "execution_count": null,
   "metadata": {},
   "outputs": [],
   "source": [
    "example_from_function['pi'] = 3.14\n",
    "example_from_function"
   ]
  },
  {
   "cell_type": "markdown",
   "metadata": {},
   "source": [
    "## Dictionary vs lists\n",
    "\n",
    "#### The differences:\n",
    "- dicts are unordered (therefore cant be sliced)\n",
    "- lists only accessed with index\n",
    "- KeyError vs IndexError\n",
    "\n",
    "#### The similarities:\n",
    "- both are mutable\n",
    "- both can contain *multiple* values\n",
    "- both can be iterated over"
   ]
  },
  {
   "cell_type": "markdown",
   "metadata": {},
   "source": [
    "To be equal, two lists must have the same **items** in the same **order**.\n",
    "\n",
    "To be equal, two dicts must have the same **keys** with the same **value**"
   ]
  },
  {
   "cell_type": "markdown",
   "metadata": {},
   "source": [
    "##### Adjust the following data structures to make the comparision  true. Keep the `==`"
   ]
  },
  {
   "cell_type": "code",
   "execution_count": null,
   "metadata": {},
   "outputs": [],
   "source": [
    "[3, 2, 1] == [1, 2, 3]"
   ]
  },
  {
   "cell_type": "code",
   "execution_count": null,
   "metadata": {},
   "outputs": [],
   "source": [
    "{3:'b', 1:'a', 2:'c'} == {1:'a', 2:'b', 3:'c'}"
   ]
  },
  {
   "cell_type": "markdown",
   "metadata": {},
   "source": [
    "## keys(), values(), and items()\n",
    "- dict methods\n",
    "- used to access dict information in a list-like way"
   ]
  },
  {
   "cell_type": "code",
   "execution_count": null,
   "metadata": {},
   "outputs": [],
   "source": [
    "state_abbreviations = {'AK': 'Alaska',\n",
    " 'AL': 'Alabama',\n",
    " 'AR': 'Arkansas',\n",
    " 'AZ': 'Arizona',\n",
    " 'CA': 'California',\n",
    " 'CO': 'Colorado',\n",
    " 'CT': 'Connecticut',\n",
    " 'DE': 'Delaware',\n",
    " 'FL': 'Florida',\n",
    " 'GA': 'Georgia',\n",
    " 'HI': 'Hawaii',\n",
    " 'IA': 'Iowa',\n",
    " 'ID': 'Idaho',\n",
    " 'IL': 'Illinois',\n",
    " 'IN': 'Indiana',\n",
    " 'KS': 'Kansas',\n",
    " 'KY': 'Kentucky',\n",
    " 'LA': 'Louisiana',\n",
    " 'MA': 'Massachusetts',\n",
    " 'MD': 'Maryland',\n",
    " 'ME': 'Maine',\n",
    " 'MI': 'Michigan',\n",
    " 'MN': 'Minnesota',\n",
    " 'MO': 'Missouri',\n",
    " 'MS': 'Mississippi',\n",
    " 'MT': 'Montana',\n",
    " 'NC': 'North Carolina',\n",
    " 'ND': 'North Dakota',\n",
    " 'NE': 'Nebraska',\n",
    " 'NH': 'New Hampshire',\n",
    " 'NJ': 'New Jersey',\n",
    " 'NM': 'New Mexico',\n",
    " 'NV': 'Nevada',\n",
    " 'NY': 'New York',\n",
    " 'OH': 'Ohio',\n",
    " 'OK': 'Oklahoma',\n",
    " 'OR': 'Oregon',\n",
    " 'PA': 'Pennsylvania',\n",
    " 'RI': 'Rhode Island',\n",
    " 'SC': 'South Carolina',\n",
    " 'SD': 'South Dakota',\n",
    " 'TN': 'Tennessee',\n",
    " 'TX': 'Texas',\n",
    " 'UT': 'Utah',\n",
    " 'VA': 'Virginia',\n",
    " 'VT': 'Vermont',\n",
    " 'WA': 'Washington',\n",
    " 'WI': 'Wisconsin',\n",
    " 'WV': 'West Virginia',\n",
    " 'WY': 'Wyoming'}"
   ]
  },
  {
   "cell_type": "code",
   "execution_count": null,
   "metadata": {},
   "outputs": [],
   "source": [
    "len(state_abbreviations)"
   ]
  },
  {
   "cell_type": "code",
   "execution_count": null,
   "metadata": {},
   "outputs": [],
   "source": [
    "state_abbreviations.keys()"
   ]
  },
  {
   "cell_type": "code",
   "execution_count": null,
   "metadata": {
    "scrolled": false
   },
   "outputs": [],
   "source": [
    "state_abbreviations.values()"
   ]
  },
  {
   "cell_type": "code",
   "execution_count": null,
   "metadata": {},
   "outputs": [],
   "source": [
    "state_abbreviations.items()"
   ]
  },
  {
   "cell_type": "code",
   "execution_count": null,
   "metadata": {
    "scrolled": true
   },
   "outputs": [],
   "source": [
    "# A demsonstration loop.\n",
    "for key, value in state_abbreviations.items():\n",
    "    print('The addreviation for', value, 'is:', key)\n",
    "    "
   ]
  },
  {
   "cell_type": "code",
   "execution_count": null,
   "metadata": {},
   "outputs": [],
   "source": [
    "# That was verbose. Let's just get 5 items out of the dict\n",
    "state_abbreviations.items()[:5]"
   ]
  },
  {
   "cell_type": "markdown",
   "metadata": {},
   "source": [
    "The results if items(), keys(), and values() are not lists.  They look and act mostly like lists, but if we want the other functionality (accessing by index, mutability) we must convert them to lists."
   ]
  },
  {
   "cell_type": "code",
   "execution_count": null,
   "metadata": {},
   "outputs": [],
   "source": [
    "state_items = state_abbreviations.items()\n",
    "list(state_items)[:5]"
   ]
  },
  {
   "cell_type": "markdown",
   "metadata": {},
   "source": [
    "## the 'in' keyword with dicts\n",
    "\n",
    "`in` and `not in` worked with lists.  They also work with dictionaries. (looks in keys by default)"
   ]
  },
  {
   "cell_type": "code",
   "execution_count": null,
   "metadata": {},
   "outputs": [],
   "source": [
    "'CA' in state_abbreviations"
   ]
  },
  {
   "cell_type": "code",
   "execution_count": null,
   "metadata": {},
   "outputs": [],
   "source": [
    "'CA' in state_abbreviations.keys()"
   ]
  },
  {
   "cell_type": "code",
   "execution_count": null,
   "metadata": {},
   "outputs": [],
   "source": [
    "'Oregon' in state_abbreviations"
   ]
  },
  {
   "cell_type": "code",
   "execution_count": null,
   "metadata": {
    "scrolled": false
   },
   "outputs": [],
   "source": [
    "'Oregon' in state_abbreviations.values()"
   ]
  },
  {
   "cell_type": "markdown",
   "metadata": {},
   "source": [
    "We can manually check if a key is set in a dictionary.\n",
    "\n",
    "If it isn't, then we can add it."
   ]
  },
  {
   "cell_type": "code",
   "execution_count": null,
   "metadata": {
    "collapsed": true
   },
   "outputs": [],
   "source": [
    "if 'PR' not in state_abbreviations:\n",
    "    state_abbreviations['PR'] = 'Puerto Rico'"
   ]
  },
  {
   "cell_type": "code",
   "execution_count": null,
   "metadata": {},
   "outputs": [],
   "source": [
    "state_abbreviations['PR']"
   ]
  },
  {
   "cell_type": "markdown",
   "metadata": {},
   "source": [
    "## Safely accessing dictionary with get() and setdefault()\n",
    "\n",
    "Sometimes you don't know if a key is set in a dictionary. If we try to access a key that isn't set we get a `KeyError`\n",
    "```python\n",
    "if some_key in some_dict:\n",
    "    result = some_dict[some_key]\n",
    " else:\n",
    "    result = default_value\n",
    "```\n",
    "\n",
    "This can get a little verbose, so we have the `get` method.\n",
    "\n",
    "```python\n",
    "result = some_dict.get(some_key, default_value)\n",
    "```"
   ]
  },
  {
   "cell_type": "code",
   "execution_count": null,
   "metadata": {
    "scrolled": true
   },
   "outputs": [],
   "source": [
    "state_abbreviations['DC']"
   ]
  },
  {
   "cell_type": "markdown",
   "metadata": {},
   "source": [
    "This line says \"Get the value of the 'DC' key in the abbreviations dictionary.  If it's not there, give me the default value ('Unknown' in this case) instead."
   ]
  },
  {
   "cell_type": "code",
   "execution_count": null,
   "metadata": {},
   "outputs": [],
   "source": [
    "state_abbreviations.get('DC', 'Unknown')"
   ]
  },
  {
   "cell_type": "code",
   "execution_count": null,
   "metadata": {},
   "outputs": [],
   "source": [
    "import data.states\n",
    "votes = data.states.ELECTORAL_VOTES"
   ]
  },
  {
   "cell_type": "code",
   "execution_count": null,
   "metadata": {
    "scrolled": true
   },
   "outputs": [],
   "source": [
    "sorted(votes.keys())"
   ]
  },
  {
   "cell_type": "code",
   "execution_count": null,
   "metadata": {},
   "outputs": [],
   "source": [
    "votes.get('District of Columbia', 0)"
   ]
  },
  {
   "cell_type": "code",
   "execution_count": null,
   "metadata": {},
   "outputs": [],
   "source": [
    "votes.get('Guam', 0)"
   ]
  },
  {
   "cell_type": "markdown",
   "metadata": {},
   "source": [
    "`get` is great to use when you want to assume the value is of a certain type and a default value makes sense.  An example:"
   ]
  },
  {
   "cell_type": "code",
   "execution_count": null,
   "metadata": {
    "collapsed": true
   },
   "outputs": [],
   "source": [
    "# Count the number of times each character appears\n",
    "speech = 'Four score and seven years ago our forefathers brought forth upon this continent a new nation'\n",
    "char_count = {} # empty dict"
   ]
  },
  {
   "cell_type": "code",
   "execution_count": null,
   "metadata": {},
   "outputs": [],
   "source": [
    "for char in speech:\n",
    "    count = char_count.get(char, 0)\n",
    "    char_count[char] = count + 1\n",
    "print(char_count)"
   ]
  },
  {
   "cell_type": "markdown",
   "metadata": {},
   "source": [
    "## Nested Dictionaries and Lists\n",
    "\n",
    "Often when modeling real world data, it makes sense to compose lists and dicts within eachother.  i.e. a list of dicts or a dict where the values are lists.  This also applies to list of lists and dicts where the values are dicts."
   ]
  },
  {
   "cell_type": "markdown",
   "metadata": {},
   "source": [
    "Example: You are having a picnic. You have a guest list and want to keep track of who's bringing what.  There are several ways to structure your data depending on what information you have and how you want to use it."
   ]
  },
  {
   "cell_type": "code",
   "execution_count": null,
   "metadata": {
    "collapsed": true
   },
   "outputs": [],
   "source": [
    "# In this example, we only care about who's bringing what.\n",
    "potluck1 = {'Jim': ['apples', 'bananas'],\n",
    "            'Sally': ['pears', 'bacon'],\n",
    "            'Hassan': ['cups']\n",
    "           }"
   ]
  },
  {
   "cell_type": "code",
   "execution_count": null,
   "metadata": {},
   "outputs": [],
   "source": [
    "potluck1.keys() # our guests"
   ]
  },
  {
   "cell_type": "code",
   "execution_count": null,
   "metadata": {},
   "outputs": [],
   "source": [
    "potluck1.values() # a list of lists representing the foods being brought"
   ]
  },
  {
   "cell_type": "markdown",
   "metadata": {},
   "source": [
    "**QUESTION**: how would you generate a collection that contains just contains all the items being brought to the picnic?  What would be a good data structure?"
   ]
  },
  {
   "cell_type": "code",
   "execution_count": null,
   "metadata": {
    "collapsed": true
   },
   "outputs": [],
   "source": [
    "# Here we have  list of dicts, each representing one guest and what they are bringing.\n",
    "# This format is more verbose, but a great example of what you might get\n",
    "# if you have your guests fill out a form and then download the results.\n",
    "potluck2 = [\n",
    "    {'name': 'Hassan', 'foods': ['cups']},\n",
    "    {'name': 'Jim', 'foods': ['apples', 'bananas'] },\n",
    "    {'name': 'Sally', 'foods': ['pears', 'bacon']}\n",
    "]"
   ]
  },
  {
   "cell_type": "code",
   "execution_count": null,
   "metadata": {
    "collapsed": true
   },
   "outputs": [],
   "source": [
    "# Here we have a dict of dicts, where each value is a dict which maps the type: amount of the food they're bringing.\n",
    "\n",
    "potluck3 = {\n",
    "    'Hassan': {'cups': 5},\n",
    "    'Jim': {'apples': 2, 'bananas': 5},\n",
    "    'Sally': {'pears': 3, 'bacon': 10}\n",
    "}"
   ]
  },
  {
   "cell_type": "code",
   "execution_count": null,
   "metadata": {
    "collapsed": true
   },
   "outputs": [],
   "source": [
    "# Here is the same data represented as a list of lists.\n",
    "# This is a good example of what our data might look like if we download it from an excel spreadsheet.\n",
    "potluck4 = [ # guest, item, quantity\n",
    "    ['hassan', 'cups', 5],\n",
    "    ['Sally', 'pears', 3],\n",
    "    ['Sally', 'bacon', 10],\n",
    "    ['Jim', 'apples', 2],\n",
    "    ['Jim', 'bananas', 5]\n",
    "]"
   ]
  },
  {
   "cell_type": "markdown",
   "metadata": {},
   "source": [
    "## A simple example"
   ]
  },
  {
   "cell_type": "code",
   "execution_count": null,
   "metadata": {
    "collapsed": true
   },
   "outputs": [],
   "source": [
    "import data.states"
   ]
  },
  {
   "cell_type": "code",
   "execution_count": null,
   "metadata": {
    "collapsed": true
   },
   "outputs": [],
   "source": [
    "electoral_votes = data.states.ELECTORAL_VOTES\n",
    "state_abbreviations = data.states.STATE_ABBREVIATIONS"
   ]
  },
  {
   "cell_type": "markdown",
   "metadata": {},
   "source": [
    "Say we have a list of state abbreviations reprensting states that have been won by a candidate."
   ]
  },
  {
   "cell_type": "code",
   "execution_count": null,
   "metadata": {
    "collapsed": true
   },
   "outputs": [],
   "source": [
    "current = ['PA', 'OR', 'TN', 'MN']"
   ]
  },
  {
   "cell_type": "markdown",
   "metadata": {},
   "source": [
    "Let's calculate the total number of electoral votes these states are worth."
   ]
  },
  {
   "cell_type": "code",
   "execution_count": null,
   "metadata": {
    "collapsed": true
   },
   "outputs": [],
   "source": [
    "def total_votes(states):\n",
    "    total_votes = 0\n",
    "    for state in current: # loop through our list of states\n",
    "        name = state_abbreviations[state] # get the name of the state from our abbreviations dictionary\n",
    "        votes = electoral_votes[name] # get the number of votes that state is worth from our votes dictionary\n",
    "        total_votes += votes # add the votes to our total\n",
    "    return total_votes"
   ]
  },
  {
   "cell_type": "code",
   "execution_count": null,
   "metadata": {},
   "outputs": [],
   "source": [
    "total_votes(current)"
   ]
  },
  {
   "cell_type": "markdown",
   "metadata": {},
   "source": [
    "# Review Questions\n",
    "- What does the code for an empty dictionary look like?\n",
    "- What happens if you access a key that doesn't exist in a dict like so: states['England']\n",
    "- What is the difference between the code: `'apple' in foods` and `'apple' in foods.values()`\n",
    "- What is the difference between: `foo['monkey']` and `foo.get(monkey)`?\n",
    "- What do lists and dicts have in common?"
   ]
  },
  {
   "cell_type": "markdown",
   "metadata": {},
   "source": [
    "## Practice:\n",
    "Update your Recipe data format to use a dictionary instead of a list."
   ]
  },
  {
   "cell_type": "code",
   "execution_count": null,
   "metadata": {
    "collapsed": true
   },
   "outputs": [],
   "source": []
  }
 ],
 "metadata": {
  "anaconda-cloud": {},
  "kernelspec": {
   "display_name": "Python 3",
   "language": "python",
   "name": "python3"
  },
  "language_info": {
   "codemirror_mode": {
    "name": "ipython",
    "version": 3
   },
   "file_extension": ".py",
   "mimetype": "text/x-python",
   "name": "python",
   "nbconvert_exporter": "python",
   "pygments_lexer": "ipython3",
   "version": "3.6.1"
  }
 },
 "nbformat": 4,
 "nbformat_minor": 1
}
