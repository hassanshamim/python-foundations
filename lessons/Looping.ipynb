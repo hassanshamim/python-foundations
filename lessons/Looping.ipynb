{
 "cells": [
  {
   "cell_type": "markdown",
   "metadata": {},
   "source": [
    "## Looping\n",
    "\n",
    "Very often we will have a collection of data (string, tuple, list, etc) and we want to do something with every value in that list.  Examples include:\n",
    "\n",
    "- transforming every value in the list, i.e. string to integer, lowercasing everything, or maybe normalizing the data.\n",
    "- evaluate whether all the items in a list meet a criteria.  I.e. are they all valid inputs?\n",
    "- 'Reduce' the data in the collection down to a single value.  I.e. get the average or the total.\n",
    "\n",
    "\n",
    "There are a few ways to accomplish the above in python, the simplest is a **for** loop.  The structure is as follows:\n",
    "\n",
    "```python\n",
    "\n",
    "for variable_name in some_collection:\n",
    "    print(variable_name)\n",
    "```"
   ]
  },
  {
   "cell_type": "markdown",
   "metadata": {},
   "source": [
    "First, lets take a look at the range() function:"
   ]
  },
  {
   "cell_type": "markdown",
   "metadata": {},
   "source": [
    "help(range)"
   ]
  },
  {
   "cell_type": "code",
   "execution_count": null,
   "metadata": {},
   "outputs": [],
   "source": [
    "range(10, 20)"
   ]
  },
  {
   "cell_type": "code",
   "execution_count": null,
   "metadata": {},
   "outputs": [],
   "source": [
    "list(range(10, 20))"
   ]
  },
  {
   "cell_type": "code",
   "execution_count": null,
   "metadata": {},
   "outputs": [],
   "source": [
    "for number in range(10, 20):\n",
    "    print(number)"
   ]
  },
  {
   "cell_type": "markdown",
   "metadata": {},
   "source": [
    "We can use more than just numbers though."
   ]
  },
  {
   "cell_type": "code",
   "execution_count": null,
   "metadata": {},
   "outputs": [],
   "source": [
    "favorites = ['Davos', 'Hodor', 'Jon', 'Arya']"
   ]
  },
  {
   "cell_type": "code",
   "execution_count": null,
   "metadata": {
    "scrolled": true
   },
   "outputs": [],
   "source": [
    "for character in favorites:\n",
    "    print(character, 'probably wont make it to the end')"
   ]
  },
  {
   "cell_type": "markdown",
   "metadata": {},
   "source": [
    "### Transforming a list\n",
    "\n",
    "Approach, create a new list to start.  For every item in the original list, transform it and append it to the new one.\n"
   ]
  },
  {
   "cell_type": "code",
   "execution_count": null,
   "metadata": {
    "collapsed": true
   },
   "outputs": [],
   "source": [
    "# tranform list of character names into the length of each string.\n",
    "\n",
    "name_lengths = []\n",
    "for name in favorites:\n",
    "    length = len(name)\n",
    "    name_lengths.append(length)\n",
    "    "
   ]
  },
  {
   "cell_type": "code",
   "execution_count": null,
   "metadata": {},
   "outputs": [],
   "source": [
    "name_lengths"
   ]
  },
  {
   "cell_type": "markdown",
   "metadata": {},
   "source": [
    "### Reducing a list down to a single value.\n",
    "Similar approach to Transformation.  We create a result variable to hold the resulting data and update it as we loop."
   ]
  },
  {
   "cell_type": "code",
   "execution_count": null,
   "metadata": {
    "collapsed": true
   },
   "outputs": [],
   "source": [
    "# Finding the total number of the letter 'o' in the character names\n",
    "\n",
    "result = 0\n",
    "for name in favorites:\n",
    "    number = name.count('o')\n",
    "    result += number\n",
    "    \n",
    "    "
   ]
  },
  {
   "cell_type": "code",
   "execution_count": null,
   "metadata": {},
   "outputs": [],
   "source": [
    "result"
   ]
  },
  {
   "cell_type": "markdown",
   "metadata": {},
   "source": [
    "### Meeting criteria\n",
    "\n",
    "First, we'll transform the whole list like above.  Then, we can make use of 2 new functions:\n",
    "\n",
    "- `all` - checks whether every value in a collection is **Truthy**\n",
    "- `any` - checks whether any values in a collection are **Truthy**"
   ]
  },
  {
   "cell_type": "code",
   "execution_count": null,
   "metadata": {},
   "outputs": [],
   "source": [
    "# Remember 0 and other empty data collections are considered False\n",
    "all([1, 2, 3])"
   ]
  },
  {
   "cell_type": "code",
   "execution_count": null,
   "metadata": {},
   "outputs": [],
   "source": [
    "all([0, 1, 2])"
   ]
  },
  {
   "cell_type": "code",
   "execution_count": null,
   "metadata": {},
   "outputs": [],
   "source": [
    "any([1, 2, 3])"
   ]
  },
  {
   "cell_type": "code",
   "execution_count": null,
   "metadata": {},
   "outputs": [],
   "source": [
    "any([0, 1, 2])"
   ]
  },
  {
   "cell_type": "markdown",
   "metadata": {},
   "source": [
    "### Checking whether every character has a letter 'o' in it"
   ]
  },
  {
   "cell_type": "code",
   "execution_count": null,
   "metadata": {},
   "outputs": [],
   "source": [
    "result = []\n",
    "\n",
    "for name in favorites:\n",
    "    has_an_o = 'o' in name\n",
    "    result.append(has_an_o)\n",
    "\n",
    "result"
   ]
  },
  {
   "cell_type": "code",
   "execution_count": null,
   "metadata": {},
   "outputs": [],
   "source": [
    "all(result)"
   ]
  },
  {
   "cell_type": "code",
   "execution_count": null,
   "metadata": {},
   "outputs": [],
   "source": [
    "any(result)"
   ]
  },
  {
   "cell_type": "markdown",
   "metadata": {},
   "source": [
    "### Practice:\n",
    "\n",
    "Write a for loop that takes the alphabet, and for every letter prints its position in the alphabet (start at 1). i.e.\n",
    "\n",
    "'a is #1'\n",
    "\n",
    "'b is #2'\n",
    "\n",
    "'c is #3'\n",
    "\n",
    "Write a loop that iterates over a list of names and returns the total length of all the names.\n",
    "\n",
    "**Bonus:** Can you do the above without writing a for loop?"
   ]
  },
  {
   "cell_type": "markdown",
   "metadata": {},
   "source": [
    "## While Loops\n",
    "instead of looping *over* a collection, we continue executing the loop as long as a condition is true.\n",
    "\n",
    "Format:\n",
    "\n",
    "```python\n",
    "while some_condition:\n",
    "    print('still looping')\n",
    "```"
   ]
  },
  {
   "cell_type": "markdown",
   "metadata": {},
   "source": [
    "### Example: counting to a hundred\n"
   ]
  },
  {
   "cell_type": "code",
   "execution_count": null,
   "metadata": {},
   "outputs": [],
   "source": [
    "i = 1\n",
    "while i < 100:\n",
    "   print(i)\n",
    "   i += 1"
   ]
  },
  {
   "cell_type": "markdown",
   "metadata": {},
   "source": [
    "More often, you'll use the while loop to do something *until* a certain condition is met.\n",
    "\n",
    "For example, if we are gathering data from the user:"
   ]
  },
  {
   "cell_type": "markdown",
   "metadata": {},
   "source": [
    "```python\n",
    "user_input = 'not valid to start'\n",
    "\n",
    "while not_valid(user_input):\n",
    "    user_input = get_user_input()\n",
    "    \n",
    "# Now our code here knows that the user_input variable meets our requirements.\n",
    "do_something(user_input)\n",
    "```\n"
   ]
  },
  {
   "cell_type": "markdown",
   "metadata": {},
   "source": [
    "### Advanced Looping\n",
    "\n",
    "There are some extra tools when it comes to looping.  They will become useful after we cover conditials.  For completeness, they are:\n",
    "\n",
    "- **continue** stop executing the code for the current item in the loop and move on to the next item.\n",
    "- **break** stop the whole loop early.\n",
    "- **else** only run this if the whole loop completed successfully.  I.e. no *break*"
   ]
  },
  {
   "cell_type": "markdown",
   "metadata": {},
   "source": [
    "## Practice #1:\n",
    "\n",
    "Let's say we're making a mad-libs type game.  We have a list of categories and we'd like to gather a word from the user for every category.\n",
    "\n",
    "i.e.\n",
    "\n",
    "['adjective', 'adverb', 'proper noun', 'color', 'part of the body', 'plural noun', 'verb']\n",
    "\n",
    "Your task is to write a function that generates a list of words matching each category from the user.  You should prompt the user with that category and then store their result.  After you retrieve the whole list you can just print it out for now."
   ]
  },
  {
   "cell_type": "markdown",
   "metadata": {},
   "source": [
    "## Practice #2 (hard):\n",
    "\n",
    "Create a 12x12 multiplication table.  This should be a list of lists.  The output should look something like:\n",
    "\n",
    "```python\n",
    "[[1, 2, 3, 4, 5, 6, 7, 8, 9, 10, 11, 12],\n",
    " [2, 4, 6, 8, 10, 12, 14, 16, 18, 20, 22, 24],\n",
    " [3, 6, 9, 12, 15, 18, 21, 24, 27, 30, 33, 36],\n",
    " [4, 8, 12, 16, 20, 24, 28, 32, 36, 40, 44, 48],\n",
    " [5, 10, 15, 20, 25, 30, 35, 40, 45, 50, 55, 60],\n",
    " [6, 12, 18, 24, 30, 36, 42, 48, 54, 60, 66, 72],\n",
    " [7, 14, 21, 28, 35, 42, 49, 56, 63, 70, 77, 84],\n",
    " [8, 16, 24, 32, 40, 48, 56, 64, 72, 80, 88, 96],\n",
    " [9, 18, 27, 36, 45, 54, 63, 72, 81, 90, 99, 108],\n",
    " [10, 20, 30, 40, 50, 60, 70, 80, 90, 100, 110, 120],\n",
    " [11, 22, 33, 44, 55, 66, 77, 88, 99, 110, 121, 132],\n",
    " [12, 24, 36, 48, 60, 72, 84, 96, 108, 120, 132, 144]]\n",
    " ```\n",
    " \n",
    " You can nest for loops inside one another.  Here's an example:\n",
    " \n",
    " ```python\n",
    " for i in collection:\n",
    "     for j in another_collection:\n",
    "         print(i * j)\n",
    "    \n",
    "```\n",
    "\n",
    "Hint: use range()"
   ]
  },
  {
   "cell_type": "code",
   "execution_count": null,
   "metadata": {
    "collapsed": true
   },
   "outputs": [],
   "source": []
  }
 ],
 "metadata": {
  "kernelspec": {
   "display_name": "Python 3",
   "language": "python",
   "name": "python3"
  },
  "language_info": {
   "codemirror_mode": {
    "name": "ipython",
    "version": 3
   },
   "file_extension": ".py",
   "mimetype": "text/x-python",
   "name": "python",
   "nbconvert_exporter": "python",
   "pygments_lexer": "ipython3",
   "version": "3.6.1"
  }
 },
 "nbformat": 4,
 "nbformat_minor": 2
}
