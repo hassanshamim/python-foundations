{
 "cells": [
  {
   "cell_type": "markdown",
   "metadata": {},
   "source": [
    "# Comprehensions and the Ternary Operator\n",
    "\n",
    "\n",
    "## References:\n",
    "- List/Dictionary/Set comprehensions [reference](http://www.diveintopython3.net/comprehensions.html#listcomprehension)\n"
   ]
  },
  {
   "cell_type": "markdown",
   "metadata": {},
   "source": [
    "## Ternary Operator\n",
    "\n",
    "The Ternary operator if simply a shorter way of writing an if: else condition.  It is used when your conditional logic is short and can fit on one line, or when it helps to have your condition operate as a single expression.\n",
    "\n",
    "**Format:** `__ if __ else __`\n",
    "\n",
    "aka \n",
    "\n",
    "`<true result> if <condition> else <false result>`\n",
    "\n",
    "**Traditional Method**"
   ]
  },
  {
   "cell_type": "code",
   "execution_count": null,
   "metadata": {},
   "outputs": [],
   "source": [
    "points = 88\n",
    "if points > 100:\n",
    "    winner = True\n",
    "else:\n",
    "    winner = False"
   ]
  },
  {
   "cell_type": "code",
   "execution_count": null,
   "metadata": {
    "scrolled": true
   },
   "outputs": [],
   "source": [
    "winner"
   ]
  },
  {
   "cell_type": "markdown",
   "metadata": {},
   "source": [
    "** Using the Ternary Operator **"
   ]
  },
  {
   "cell_type": "code",
   "execution_count": null,
   "metadata": {},
   "outputs": [],
   "source": [
    "points = 88\n",
    "winner = True if points > 88 else False"
   ]
  },
  {
   "cell_type": "markdown",
   "metadata": {},
   "source": [
    "`<true result> if <condition> else <false result>`"
   ]
  },
  {
   "cell_type": "code",
   "execution_count": null,
   "metadata": {
    "scrolled": true
   },
   "outputs": [],
   "source": [
    "winner"
   ]
  },
  {
   "cell_type": "code",
   "execution_count": null,
   "metadata": {
    "collapsed": true
   },
   "outputs": [],
   "source": []
  },
  {
   "cell_type": "markdown",
   "metadata": {},
   "source": [
    "**Collatz Example**"
   ]
  },
  {
   "cell_type": "code",
   "execution_count": null,
   "metadata": {
    "collapsed": true
   },
   "outputs": [],
   "source": [
    "def even(num):\n",
    "    return num % 2 == 0\n",
    "\n",
    "def collatz(num):\n",
    "    result = num // 2 if even(num) else num*3+1\n",
    "    return result\n",
    "\n",
    "start = 3"
   ]
  },
  {
   "cell_type": "code",
   "execution_count": null,
   "metadata": {},
   "outputs": [],
   "source": [
    "while start != 1:\n",
    "    start = collatz(start)\n",
    "    print(start)"
   ]
  },
  {
   "cell_type": "markdown",
   "metadata": {},
   "source": [
    "### Practice:\n",
    "Write a function that calculates the senior citizins discount of a purchase if applicable.\n",
    "It should take two parameters, `age` and `total`.  If the age is 65 or above, return the total with a 10% discount.\n",
    "Otherwise, simply return the total as provided.\n",
    "\n",
    "Use the ternary operator\n"
   ]
  },
  {
   "cell_type": "code",
   "execution_count": null,
   "metadata": {},
   "outputs": [],
   "source": [
    "age = 76\n",
    "total = 100.00"
   ]
  },
  {
   "cell_type": "markdown",
   "metadata": {},
   "source": [
    "# Comprehensions\n",
    "\n",
    "Comprehensions don't give us any new functionality, they just allow our code to be shorter/more readable.\n",
    "\n",
    "You will see them a lot in the wild.\n",
    "\n",
    "**Format**: `_ for _ in _ if _`\n",
    "\n",
    "They combine a for loop, an expression, and an optional conditional.\n",
    "\n",
    "`<expression> for <thing> in <collection> if <condition>`\n",
    "\n",
    "They do *all* this and return a new object, either: list, set, dict, or generator(not discussed)\n",
    "\n",
    "You can think of them as transforming every member of a collection (list, dict, etc)\n",
    "\n",
    "\n",
    "**Note**: You can use a comprehension to loop over any iterable(string, range(), etc) not just the mutable data types.  A new object is always returned by a comprehension"
   ]
  },
  {
   "cell_type": "markdown",
   "metadata": {},
   "source": [
    "## List Comprehension\n",
    "\n",
    "The following examples just use numbers.  Any data type can be processed depending on the task involved.\n",
    "\n",
    "I try and keep the comprehensions simple so as to focus on syntax and composeability. What you actually do in the comprehensions will vary depending on your goal.\n",
    "\n",
    "If you have specific use-cases in mind please ask for an example, or try implementing it yourself.\n"
   ]
  },
  {
   "cell_type": "code",
   "execution_count": null,
   "metadata": {
    "collapsed": true
   },
   "outputs": [],
   "source": []
  },
  {
   "cell_type": "markdown",
   "metadata": {},
   "source": [
    "**Just the loop**"
   ]
  },
  {
   "cell_type": "code",
   "execution_count": null,
   "metadata": {
    "collapsed": true
   },
   "outputs": [],
   "source": [
    "x = list(range(10))"
   ]
  },
  {
   "cell_type": "code",
   "execution_count": null,
   "metadata": {},
   "outputs": [],
   "source": [
    "x"
   ]
  },
  {
   "cell_type": "code",
   "execution_count": null,
   "metadata": {
    "scrolled": true
   },
   "outputs": [],
   "source": [
    "# Creating a list\n",
    "[0 for num in x]"
   ]
  },
  {
   "cell_type": "code",
   "execution_count": null,
   "metadata": {},
   "outputs": [],
   "source": [
    "original_word = 'shingle'\n",
    "['_' for char in original_word]"
   ]
  },
  {
   "cell_type": "markdown",
   "metadata": {},
   "source": [
    "#### Just the transformation"
   ]
  },
  {
   "cell_type": "code",
   "execution_count": null,
   "metadata": {
    "collapsed": true
   },
   "outputs": [],
   "source": [
    "x = list(range(10))"
   ]
  },
  {
   "cell_type": "code",
   "execution_count": null,
   "metadata": {},
   "outputs": [],
   "source": [
    "[i*2 for i in x]"
   ]
  },
  {
   "cell_type": "code",
   "execution_count": null,
   "metadata": {
    "collapsed": true
   },
   "outputs": [],
   "source": []
  },
  {
   "cell_type": "code",
   "execution_count": null,
   "metadata": {},
   "outputs": [],
   "source": [
    "[i**2 for i in x]"
   ]
  },
  {
   "cell_type": "code",
   "execution_count": null,
   "metadata": {},
   "outputs": [],
   "source": [
    "x # x in unchanged!"
   ]
  },
  {
   "cell_type": "code",
   "execution_count": null,
   "metadata": {},
   "outputs": [],
   "source": [
    "[str(i) for i in x] # calling functions or expressions are equally fine"
   ]
  },
  {
   "cell_type": "markdown",
   "metadata": {},
   "source": [
    "#### Adding the condition"
   ]
  },
  {
   "cell_type": "code",
   "execution_count": null,
   "metadata": {},
   "outputs": [],
   "source": [
    "[i*2 for i in x if i < 5]"
   ]
  },
  {
   "cell_type": "markdown",
   "metadata": {},
   "source": [
    "**Note** Any values that fail the condition will not be passed to the expression.  You can think of them as being filtered out."
   ]
  },
  {
   "cell_type": "code",
   "execution_count": null,
   "metadata": {
    "scrolled": true
   },
   "outputs": [],
   "source": [
    "[i for i in x if even(i)]"
   ]
  },
  {
   "cell_type": "code",
   "execution_count": null,
   "metadata": {},
   "outputs": [],
   "source": [
    "[i*2 for i in x if even(i)]"
   ]
  },
  {
   "cell_type": "code",
   "execution_count": null,
   "metadata": {},
   "outputs": [],
   "source": [
    "[even(i) for i in x if i > 2]"
   ]
  },
  {
   "cell_type": "markdown",
   "metadata": {},
   "source": [
    "####  Can also use else by using ternary operator\n",
    "**Notice the position**"
   ]
  },
  {
   "cell_type": "code",
   "execution_count": null,
   "metadata": {},
   "outputs": [],
   "source": [
    "['Even' for i in x if even(i)]"
   ]
  },
  {
   "cell_type": "code",
   "execution_count": null,
   "metadata": {},
   "outputs": [],
   "source": [
    "['Even' if even(i) else 'Odd' for i in x]"
   ]
  },
  {
   "cell_type": "markdown",
   "metadata": {},
   "source": [
    "#### Comprehension can be used inside of dictionaries and sets as well."
   ]
  },
  {
   "cell_type": "markdown",
   "metadata": {},
   "source": [
    "####  Dictionaries"
   ]
  },
  {
   "cell_type": "code",
   "execution_count": null,
   "metadata": {
    "collapsed": true
   },
   "outputs": [],
   "source": [
    "friends = ['bernie', 'jack', 'steve', 'jim', 'steph', 'sarah']"
   ]
  },
  {
   "cell_type": "code",
   "execution_count": null,
   "metadata": {},
   "outputs": [],
   "source": [
    "{name: len(name) for name in friends}"
   ]
  },
  {
   "cell_type": "code",
   "execution_count": null,
   "metadata": {
    "scrolled": false
   },
   "outputs": [],
   "source": [
    "{name: name[0] for name in friends}"
   ]
  },
  {
   "cell_type": "code",
   "execution_count": null,
   "metadata": {},
   "outputs": [],
   "source": [
    "{len(name): name[0] for name in friends} # Notice how some keys will be overwritten?  Why is this?"
   ]
  },
  {
   "cell_type": "code",
   "execution_count": null,
   "metadata": {
    "collapsed": true
   },
   "outputs": [],
   "source": [
    "# Reversing a dictionary\n",
    "d = {'a': 1, 'b': 2, 'c': 3}"
   ]
  },
  {
   "cell_type": "code",
   "execution_count": null,
   "metadata": {},
   "outputs": [],
   "source": [
    "{val:key for key, val in d.items()}"
   ]
  },
  {
   "cell_type": "markdown",
   "metadata": {},
   "source": [
    "####  Sets\n",
    "Looks the same as dictionary comprehensions, but no key-> val mapping (`:`)"
   ]
  },
  {
   "cell_type": "code",
   "execution_count": null,
   "metadata": {
    "collapsed": true
   },
   "outputs": [],
   "source": [
    "song = 'It is the song that never ends it goes on and on my friends.'"
   ]
  },
  {
   "cell_type": "code",
   "execution_count": null,
   "metadata": {},
   "outputs": [],
   "source": [
    "{word for word in song}"
   ]
  },
  {
   "cell_type": "markdown",
   "metadata": {},
   "source": [
    "Strings by default iterate character by character.  We can get the words out by calling .split() on the collection in our comprehension."
   ]
  },
  {
   "cell_type": "code",
   "execution_count": null,
   "metadata": {},
   "outputs": [],
   "source": [
    "{word for word in song.split()}  # But now we have duplicate 'it'.  We wanted the unique words right?"
   ]
  },
  {
   "cell_type": "code",
   "execution_count": null,
   "metadata": {
    "scrolled": true
   },
   "outputs": [],
   "source": [
    "{word.lower() for word in song.split()}"
   ]
  },
  {
   "cell_type": "markdown",
   "metadata": {},
   "source": [
    "## Challenge\n",
    "\n",
    "- Generate list of underscores the same length as the target word\n",
    "- generate a list of all correctly guessed letters.\n",
    "- generate a set of all correctly guessed letters.\n",
    "- generate a list of all incorrect guesses.  Do the same but generate a set.\n",
    "- generate a list of capitalized letters from the target_word\n",
    "- generate a list from target_word where each letter appears if it has been guessed, otherwise use an underscore\n",
    "\n",
    "Example:\n",
    "```python\n",
    "guessed_letters = ['a', 'b', 'c', 'd']\n",
    "target_word = 'dog'\n",
    "```"
   ]
  }
 ],
 "metadata": {
  "anaconda-cloud": {},
  "kernelspec": {
   "display_name": "Python 3",
   "language": "python",
   "name": "python3"
  },
  "language_info": {
   "codemirror_mode": {
    "name": "ipython",
    "version": 3
   },
   "file_extension": ".py",
   "mimetype": "text/x-python",
   "name": "python",
   "nbconvert_exporter": "python",
   "pygments_lexer": "ipython3",
   "version": "3.6.1"
  }
 },
 "nbformat": 4,
 "nbformat_minor": 1
}
