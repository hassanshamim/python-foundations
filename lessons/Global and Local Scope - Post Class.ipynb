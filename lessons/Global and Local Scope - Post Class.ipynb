{
 "cells": [
  {
   "cell_type": "markdown",
   "metadata": {},
   "source": [
    "### Resources\n",
    "- Automate the Boring Stuff [Chapter 3](https://automatetheboringstuff.com/chapter3/)\n",
    "- Think Python [3.5 - 3.12](http://greenteapress.com/thinkpython/html/thinkpython004.html)\n",
    "- A byte of Python - [On Functions](https://python.swaroopch.com/functions.html)"
   ]
  },
  {
   "cell_type": "markdown",
   "metadata": {},
   "source": [
    "### About Functions\n",
    "We've seen how to define and call functions already, but we've simply highlighted them as a useful tool to reduce duplication and increase the readability of our code.  Today we'll dig a little deeper into how they work, they get the values they need and what they can affect."
   ]
  },
  {
   "cell_type": "markdown",
   "metadata": {},
   "source": [
    "** Quick Review**\n",
    "\n",
    "```python\n",
    "\n",
    "def increment(number):  # function header.  The function's name and any parameters it takes\n",
    "    result = number + 1 # Function body.  The code block that follows the header.\n",
    "    return result       # Return statement.  Function stops as soon as it has a value to return.\n",
    "```"
   ]
  },
  {
   "cell_type": "code",
   "execution_count": 2,
   "metadata": {
    "collapsed": true
   },
   "outputs": [],
   "source": [
    "def increment(number):  # function header.  The function's name and any parameters it takes\n",
    "    result = number + 1 # Function body.  The code block that follows the header.\n",
    "    return result "
   ]
  },
  {
   "cell_type": "code",
   "execution_count": 3,
   "metadata": {},
   "outputs": [
    {
     "data": {
      "text/plain": [
       "8"
      ]
     },
     "execution_count": 3,
     "metadata": {},
     "output_type": "execute_result"
    }
   ],
   "source": [
    "n = 7\n",
    "increment(n)"
   ]
  },
  {
   "cell_type": "code",
   "execution_count": 4,
   "metadata": {},
   "outputs": [
    {
     "data": {
      "text/plain": [
       "7"
      ]
     },
     "execution_count": 4,
     "metadata": {},
     "output_type": "execute_result"
    }
   ],
   "source": [
    "n"
   ]
  },
  {
   "cell_type": "code",
   "execution_count": 5,
   "metadata": {},
   "outputs": [
    {
     "ename": "NameError",
     "evalue": "name 'result' is not defined",
     "output_type": "error",
     "traceback": [
      "\u001b[0;31m---------------------------------------------------------------------------\u001b[0m",
      "\u001b[0;31mNameError\u001b[0m                                 Traceback (most recent call last)",
      "\u001b[0;32m<ipython-input-5-a5b1e83cd027>\u001b[0m in \u001b[0;36m<module>\u001b[0;34m()\u001b[0m\n\u001b[0;32m----> 1\u001b[0;31m \u001b[0mresult\u001b[0m\u001b[0;34m\u001b[0m\u001b[0m\n\u001b[0m",
      "\u001b[0;31mNameError\u001b[0m: name 'result' is not defined"
     ]
    }
   ],
   "source": [
    "result"
   ]
  },
  {
   "cell_type": "code",
   "execution_count": 1,
   "metadata": {},
   "outputs": [
    {
     "data": {
      "text/plain": [
       "<function __main__.example>"
      ]
     },
     "execution_count": 1,
     "metadata": {},
     "output_type": "execute_result"
    }
   ],
   "source": [
    "def example():\n",
    "    a = 'a'\n",
    "    \n",
    "a = 7\n",
    "example"
   ]
  },
  {
   "cell_type": "markdown",
   "metadata": {},
   "source": [
    "## Global vs Local Scope\n",
    "\n",
    "Variables defined *inside* a function are said to be *local* to that function.  They exist in the local scope. (aka local variable)\n",
    "\n",
    "Variables defined *outside* of any functions are in the *global* scope. (aka global variable)\n",
    "\n",
    "Variables must be local **or** global in scope.  They cannot be both.\n"
   ]
  },
  {
   "cell_type": "markdown",
   "metadata": {},
   "source": [
    "### Okay.. but what *is* scope?\n",
    "\n",
    "It's like a container for variables.  If that scope is destroyed, all the variables inside get deleted because we don't need them anymore (aka garbage collection).\n",
    "\n",
    "When you run a python program (i.e. python some_script.py) it creates a global scope for said program.  When the program terminates, all the computer memory it takes up is freed.  Otherwise, the next time you run this program all the variables would be set to what they were previously.\n",
    "\n",
    "When you execute a function, it creates a new local scope for that function.  Any variables created inside the function are forgotten when the function returns.\n",
    "\n",
    "In the above example for **increment**.  The variable **result** is created in the local scope of the function while it is executing.  Once a value is returned, we don't need to store the **result** variable anymore."
   ]
  },
  {
   "cell_type": "markdown",
   "metadata": {},
   "source": [
    "### And they come with some rules:\n",
    "- Code in the global scope cannot use any local variables.\n",
    "- However, a local scope can access global variables.\n",
    "- Code in a function’s local scope cannot use variables in any other local scope.\n",
    "- You can use the same name for different variables if they are in different scopes. That is, there can be a local variable named foo and a global variable also named foo."
   ]
  },
  {
   "cell_type": "markdown",
   "metadata": {},
   "source": [
    "### Why?\n",
    "\n",
    "It's safer.  Imagine all variables are global.  Now you have to be careful not to ever name two variables the same thing.  Common variable names (like `i`, `x`, `total`, `result`, etc) would potentially get overwritten by different parts of your code (and at different times, now that we know control flow.)  Also, we wouldn't be able to safely import code to run without checking that all the variable names used are different than ours.\n",
    "\n",
    "Global variables are fine, but it's safer to use local variables when possible.\n",
    "\n",
    "#### Let's see some examples\n",
    "Before you run the examples, take a moment to guess if it works and what the output would be.  If it doesn't work - why?\n",
    "\n",
    "If you want more detail, paste the examples into [Python Visualizer](http://www.pythontutor.com/visualize.html#mode=edit) or Thonny"
   ]
  },
  {
   "cell_type": "code",
   "execution_count": 8,
   "metadata": {},
   "outputs": [
    {
     "data": {
      "text/plain": [
       "'anything'"
      ]
     },
     "execution_count": 8,
     "metadata": {},
     "output_type": "execute_result"
    }
   ],
   "source": [
    "# Access a local variable from global scope.  \n",
    "def foo():\n",
    "    bar = 'anything'\n",
    "    return bar\n",
    "\n",
    "foo()\n"
   ]
  },
  {
   "cell_type": "code",
   "execution_count": 9,
   "metadata": {},
   "outputs": [
    {
     "ename": "NameError",
     "evalue": "name 'bar' is not defined",
     "output_type": "error",
     "traceback": [
      "\u001b[0;31m---------------------------------------------------------------------------\u001b[0m",
      "\u001b[0;31mNameError\u001b[0m                                 Traceback (most recent call last)",
      "\u001b[0;32m<ipython-input-9-c157a79031e1>\u001b[0m in \u001b[0;36m<module>\u001b[0;34m()\u001b[0m\n\u001b[0;32m----> 1\u001b[0;31m \u001b[0mbar\u001b[0m\u001b[0;34m\u001b[0m\u001b[0m\n\u001b[0m",
      "\u001b[0;31mNameError\u001b[0m: name 'bar' is not defined"
     ]
    }
   ],
   "source": [
    "bar"
   ]
  },
  {
   "cell_type": "code",
   "execution_count": 10,
   "metadata": {},
   "outputs": [
    {
     "name": "stdout",
     "output_type": "stream",
     "text": [
      "100\n"
     ]
    }
   ],
   "source": [
    "# Access a local variable from another local scope\n",
    "def foo():\n",
    "    bar()\n",
    "    print(thing1)\n",
    "\n",
    "def bar():\n",
    "    thing1 = 0\n",
    "    thing2 = 0\n",
    "    \n",
    "foo()"
   ]
  },
  {
   "cell_type": "code",
   "execution_count": 17,
   "metadata": {},
   "outputs": [
    {
     "name": "stdout",
     "output_type": "stream",
     "text": [
      "hello, my name is Albert\n",
      "Albert\n"
     ]
    }
   ],
   "source": [
    "# Access Global variable from local scope\n",
    "\n",
    "def introduce():\n",
    "    print('hello, my name is', name)\n",
    "\n",
    "name = 'Albert'\n",
    "introduce()\n",
    "    \n",
    "\n",
    "\n",
    "print(name)"
   ]
  },
  {
   "cell_type": "code",
   "execution_count": 18,
   "metadata": {},
   "outputs": [
    {
     "name": "stdout",
     "output_type": "stream",
     "text": [
      "global variable\n",
      "bar variable\n",
      "foo variable\n",
      "bar variable\n",
      "global variable\n"
     ]
    }
   ],
   "source": [
    "# Local and Global variable with the same name\n",
    "def foo():\n",
    "    var = 'foo variable'\n",
    "    print(var)\n",
    "    \n",
    "def bar():\n",
    "    var = 'bar variable'\n",
    "    print(var)\n",
    "    foo()\n",
    "    print(var)\n",
    "    \n",
    "var = 'global variable'\n",
    "print(var)\n",
    "bar() # calls foo\n",
    "print(var)"
   ]
  },
  {
   "cell_type": "markdown",
   "metadata": {},
   "source": [
    "### Expected output\n",
    "'global variable'\n",
    "'bar variable'\n",
    "'foo variable'\n",
    "'bar variable'\n",
    "'global variable'\n"
   ]
  },
  {
   "cell_type": "markdown",
   "metadata": {},
   "source": [
    "Remember, variables are passed by reference.  In the following example, decrement only sees the value (i.e. number) that is passed in - not the name of the variable as well.  Since numbers are immutable, there is nothing we can do (so far) inside the decrement function to change the variable passed in."
   ]
  },
  {
   "cell_type": "code",
   "execution_count": 20,
   "metadata": {
    "collapsed": true
   },
   "outputs": [],
   "source": [
    "def decrement(num):\n",
    "    num = num - 1\n",
    "    return num"
   ]
  },
  {
   "cell_type": "code",
   "execution_count": 21,
   "metadata": {},
   "outputs": [
    {
     "name": "stdout",
     "output_type": "stream",
     "text": [
      "2\n"
     ]
    }
   ],
   "source": [
    "num = 3\n",
    "print(decrement(num))"
   ]
  },
  {
   "cell_type": "code",
   "execution_count": 23,
   "metadata": {
    "scrolled": true
   },
   "outputs": [
    {
     "data": {
      "text/plain": [
       "3"
      ]
     },
     "execution_count": 23,
     "metadata": {},
     "output_type": "execute_result"
    }
   ],
   "source": [
    "num"
   ]
  },
  {
   "cell_type": "markdown",
   "metadata": {},
   "source": [
    "**NOTE**: the scope of a variable is decided when the function is defined, not when it is invoked.  For example:\n",
    "\n",
    "second doesn't care about `foo` in first because when second was defined it could only find `foo` in the global scope."
   ]
  },
  {
   "cell_type": "code",
   "execution_count": 27,
   "metadata": {
    "collapsed": true
   },
   "outputs": [],
   "source": [
    "def first():\n",
    "    foo = 'AAA'\n",
    "    second()\n",
    "    \n",
    "def second():\n",
    "    print(foo)\n",
    "    \n",
    "    \n",
    "foo = 'GLOBAL FOO'"
   ]
  },
  {
   "cell_type": "code",
   "execution_count": 28,
   "metadata": {},
   "outputs": [
    {
     "name": "stdout",
     "output_type": "stream",
     "text": [
      "GLOBAL FOO\n"
     ]
    }
   ],
   "source": [
    "second()"
   ]
  },
  {
   "cell_type": "markdown",
   "metadata": {},
   "source": [
    "## Modifying Global variables from a local scope\n",
    "\n",
    "\"from a local scope\" == \"inside a function\"\n",
    "\n",
    "Sometimes you need to do this rather than passing in the variable as an argument and returning it.\n",
    "\n",
    "You can acheive this by using the `global` statement, followed by the variable name, inside a function.\n",
    "\n",
    "**Caveat**: This can get messy.  I don't see the pattern used often but it's useful to know."
   ]
  },
  {
   "cell_type": "code",
   "execution_count": 36,
   "metadata": {
    "scrolled": false
   },
   "outputs": [
    {
     "name": "stdout",
     "output_type": "stream",
     "text": [
      "original name: Bob\n",
      "changed name: Phillip\n"
     ]
    }
   ],
   "source": [
    "name = 'Bob'\n",
    "def change_name():\n",
    "    global name\n",
    "    name = 'Phillip'\n",
    "\n",
    "print('original name:', name)\n",
    "\n",
    "change_name()\n",
    "print('changed name:', name)"
   ]
  },
  {
   "cell_type": "markdown",
   "metadata": {},
   "source": [
    "## Rules for determining the scope of a variable\n",
    "1. If a variable is being used in the global scope (that is, outside of all functions), then it is always a global variable.\n",
    "\n",
    "2. If there is a global statement for that variable in a function, it is a global variable.\n",
    "\n",
    "3. Otherwise, if the variable is used in an assignment statement in the function, it is a local variable.\n",
    "\n",
    "4. But if the variable is not used in an assignment statement, it is a global variable."
   ]
  },
  {
   "cell_type": "code",
   "execution_count": 37,
   "metadata": {
    "collapsed": true
   },
   "outputs": [],
   "source": [
    "def foo():\n",
    "    global thing\n",
    "    thing = 'foo' # this is the global\n",
    "\n",
    "def bar():\n",
    "    thing = 'bar' # this is a local\n",
    "\n",
    "def baz():\n",
    "    print(thing) # this is the global\n",
    "\n",
    "thing = 'global' # this is the global"
   ]
  },
  {
   "cell_type": "code",
   "execution_count": 38,
   "metadata": {
    "scrolled": true
   },
   "outputs": [
    {
     "name": "stdout",
     "output_type": "stream",
     "text": [
      "foo\n"
     ]
    }
   ],
   "source": [
    "foo()\n",
    "print(thing)"
   ]
  },
  {
   "cell_type": "code",
   "execution_count": 39,
   "metadata": {},
   "outputs": [
    {
     "name": "stdout",
     "output_type": "stream",
     "text": [
      "foo\n"
     ]
    }
   ],
   "source": [
    "bar()\n",
    "print(thing)"
   ]
  },
  {
   "cell_type": "code",
   "execution_count": 40,
   "metadata": {},
   "outputs": [
    {
     "name": "stdout",
     "output_type": "stream",
     "text": [
      "foo\n"
     ]
    }
   ],
   "source": [
    "baz()"
   ]
  },
  {
   "cell_type": "markdown",
   "metadata": {},
   "source": [
    "### Note\n",
    "If you try to use a local variable in a function before you assign a value to it, as in the following program, Python will give you an error."
   ]
  },
  {
   "cell_type": "code",
   "execution_count": 44,
   "metadata": {},
   "outputs": [
    {
     "ename": "UnboundLocalError",
     "evalue": "local variable 'thing' referenced before assignment",
     "output_type": "error",
     "traceback": [
      "\u001b[0;31m---------------------------------------------------------------------------\u001b[0m",
      "\u001b[0;31mUnboundLocalError\u001b[0m                         Traceback (most recent call last)",
      "\u001b[0;32m<ipython-input-44-e06e8ee12212>\u001b[0m in \u001b[0;36m<module>\u001b[0;34m()\u001b[0m\n\u001b[1;32m      5\u001b[0m \u001b[0;34m\u001b[0m\u001b[0m\n\u001b[1;32m      6\u001b[0m \u001b[0mthing\u001b[0m \u001b[0;34m=\u001b[0m \u001b[0;34m'hello from the global scope'\u001b[0m\u001b[0;34m\u001b[0m\u001b[0m\n\u001b[0;32m----> 7\u001b[0;31m \u001b[0mfoo\u001b[0m\u001b[0;34m(\u001b[0m\u001b[0;34m)\u001b[0m\u001b[0;34m\u001b[0m\u001b[0m\n\u001b[0m",
      "\u001b[0;32m<ipython-input-44-e06e8ee12212>\u001b[0m in \u001b[0;36mfoo\u001b[0;34m()\u001b[0m\n\u001b[1;32m      1\u001b[0m \u001b[0;32mdef\u001b[0m \u001b[0mfoo\u001b[0m\u001b[0;34m(\u001b[0m\u001b[0;34m)\u001b[0m\u001b[0;34m:\u001b[0m\u001b[0;34m\u001b[0m\u001b[0m\n\u001b[0;32m----> 2\u001b[0;31m     \u001b[0mprint\u001b[0m\u001b[0;34m(\u001b[0m\u001b[0mthing\u001b[0m\u001b[0;34m)\u001b[0m\u001b[0;34m\u001b[0m\u001b[0m\n\u001b[0m\u001b[1;32m      3\u001b[0m     \u001b[0mthing\u001b[0m \u001b[0;34m=\u001b[0m \u001b[0;34m'hello from foo'\u001b[0m\u001b[0;34m\u001b[0m\u001b[0m\n\u001b[1;32m      4\u001b[0m \u001b[0;34m\u001b[0m\u001b[0m\n\u001b[1;32m      5\u001b[0m \u001b[0;34m\u001b[0m\u001b[0m\n",
      "\u001b[0;31mUnboundLocalError\u001b[0m: local variable 'thing' referenced before assignment"
     ]
    }
   ],
   "source": [
    "def foo():\n",
    "    print(thing)\n",
    "    thing = 'hello from foo'\n",
    "\n",
    "\n",
    "thing = 'hello from the global scope'\n",
    "foo()"
   ]
  },
  {
   "cell_type": "code",
   "execution_count": 45,
   "metadata": {},
   "outputs": [
    {
     "name": "stdout",
     "output_type": "stream",
     "text": [
      "hello from the global scope\n"
     ]
    }
   ],
   "source": [
    "def foo():\n",
    "    print(thing)\n",
    "\n",
    "thing = 'hello from the global scope'\n",
    "foo()"
   ]
  },
  {
   "cell_type": "markdown",
   "metadata": {},
   "source": [
    "## Confused?\n",
    "\n",
    "You can think of scopes like Russian nesting dolls.  If you're inside the smallest doll you look inside there before going to the next biggest doll, etc.\n",
    "\n",
    "Or you could think about it like rooms in a house.  Hallways are the global scope, and each room is a local scope.  If you are in the kitchen() function and you are looking for the `eggs` variable, you would look in the kitchen first before going back where you came from to look there."
   ]
  },
  {
   "cell_type": "markdown",
   "metadata": {},
   "source": [
    "## Functions as 'black boxes'\n",
    "\n",
    "Because functions try to affect the rest of your program as little as possible (by introducing new scope) you can often just think of them as some black box.  You care what you put in (parameters) and what comes out (returned values), but you don't need to know what exactly goes on inside.\n",
    "\n",
    "Because of this we can use functions and code written by someone else just by knowing *what* the function does.  We don't need to know *how* it does it.\n",
    "\n",
    "Hence, when using a new package or module we read the documentation for use, not the source code's implementation."
   ]
  },
  {
   "cell_type": "markdown",
   "metadata": {},
   "source": [
    "## Function Parameters\n",
    "\n",
    "As we've seen, we can pass values into a function with its parameters.  This allows us to give values from the outer scope to the inner scope of a function *without* relying on consistent naming of variables.  Here's a short example:\n",
    "\n",
    "```python\n",
    "def add1(a, b):\n",
    "    return a + b\n",
    "```\n",
    "vs\n",
    "\n",
    "```python\n",
    "def add2():\n",
    "    return a + b\n",
    "```\n",
    "\n",
    "Both of these functions add two numbers together, but the second one will not work if you don't have variables named `a` and `b` in the global scope.  This is so much worse as it requires us to use variables with certain names and now the function cares about what is going on outside of it, rather than solely being responsible for one thing (i.e. adding two numbers)."
   ]
  },
  {
   "cell_type": "code",
   "execution_count": 47,
   "metadata": {
    "collapsed": true
   },
   "outputs": [],
   "source": [
    "def add1(a, b):\n",
    "    return a + b"
   ]
  },
  {
   "cell_type": "code",
   "execution_count": 49,
   "metadata": {},
   "outputs": [
    {
     "ename": "TypeError",
     "evalue": "add1() missing 1 required positional argument: 'b'",
     "output_type": "error",
     "traceback": [
      "\u001b[0;31m---------------------------------------------------------------------------\u001b[0m",
      "\u001b[0;31mTypeError\u001b[0m                                 Traceback (most recent call last)",
      "\u001b[0;32m<ipython-input-49-cdb52ff0bd61>\u001b[0m in \u001b[0;36m<module>\u001b[0;34m()\u001b[0m\n\u001b[0;32m----> 1\u001b[0;31m \u001b[0madd1\u001b[0m\u001b[0;34m(\u001b[0m\u001b[0;36m3\u001b[0m\u001b[0;34m)\u001b[0m\u001b[0;34m\u001b[0m\u001b[0m\n\u001b[0m",
      "\u001b[0;31mTypeError\u001b[0m: add1() missing 1 required positional argument: 'b'"
     ]
    }
   ],
   "source": [
    "add1(3)"
   ]
  },
  {
   "cell_type": "markdown",
   "metadata": {},
   "source": [
    "## Functions can have multiple parameters\n",
    "\n",
    "A function may have any number of parameters.\n",
    "\n",
    "```python\n",
    "def add_four(a, b, c, d):\n",
    "    return a + b + c + d\n",
    "```\n",
    "\n",
    "```python\n",
    "def add_five(a, b, c, d, e):\n",
    "    return a + b + c + d + e\n",
    "```\n",
    "\n",
    "But sometimes, we want to accept an unknown number of parameters.  The `print` function is a good example of this.  see `help(print)`"
   ]
  },
  {
   "cell_type": "code",
   "execution_count": null,
   "metadata": {
    "collapsed": true
   },
   "outputs": [],
   "source": [
    "print('one argument')"
   ]
  },
  {
   "cell_type": "code",
   "execution_count": null,
   "metadata": {
    "collapsed": true
   },
   "outputs": [],
   "source": [
    "print('two', 'arguments')"
   ]
  },
  {
   "cell_type": "markdown",
   "metadata": {},
   "source": [
    "We can achieve this functionality with an asterisk (aka splat) `*`.  These optional arguments must come after any normal arguments in the function header.  Optional arguments are stored as a tuple."
   ]
  },
  {
   "cell_type": "code",
   "execution_count": 50,
   "metadata": {
    "collapsed": true
   },
   "outputs": [],
   "source": [
    "def add_many(*numbers):\n",
    "    total = 0\n",
    "    for num in numbers:\n",
    "        total += num\n",
    "    return total"
   ]
  },
  {
   "cell_type": "code",
   "execution_count": 53,
   "metadata": {},
   "outputs": [
    {
     "data": {
      "text/plain": [
       "0"
      ]
     },
     "execution_count": 53,
     "metadata": {},
     "output_type": "execute_result"
    }
   ],
   "source": [
    "add_many()"
   ]
  },
  {
   "cell_type": "code",
   "execution_count": 52,
   "metadata": {},
   "outputs": [
    {
     "data": {
      "text/plain": [
       "46"
      ]
     },
     "execution_count": 52,
     "metadata": {},
     "output_type": "execute_result"
    }
   ],
   "source": [
    "add_many(3, 6, 2, 1, 6, 7, 21)"
   ]
  },
  {
   "cell_type": "code",
   "execution_count": 54,
   "metadata": {
    "collapsed": true
   },
   "outputs": [],
   "source": [
    "def describe(*args):\n",
    "    print('i have', len(args), 'arguments')\n",
    "    print('and it has type', type(args))"
   ]
  },
  {
   "cell_type": "code",
   "execution_count": 55,
   "metadata": {},
   "outputs": [
    {
     "name": "stdout",
     "output_type": "stream",
     "text": [
      "i have 4 arguments\n",
      "and it has type <class 'tuple'>\n"
     ]
    }
   ],
   "source": [
    "describe(1, 2, 3, 4)"
   ]
  },
  {
   "cell_type": "code",
   "execution_count": 56,
   "metadata": {},
   "outputs": [
    {
     "name": "stdout",
     "output_type": "stream",
     "text": [
      "i have 3 arguments\n",
      "and it has type <class 'tuple'>\n"
     ]
    }
   ],
   "source": [
    "describe('a', 3.14, [1, 2, 3])"
   ]
  },
  {
   "cell_type": "code",
   "execution_count": 57,
   "metadata": {},
   "outputs": [
    {
     "data": {
      "text/plain": [
       "('a', 3.14, [1, 2, 3])"
      ]
     },
     "execution_count": 57,
     "metadata": {},
     "output_type": "execute_result"
    }
   ],
   "source": [
    "'a', 3.14, [1, 2, 3]"
   ]
  },
  {
   "cell_type": "code",
   "execution_count": 62,
   "metadata": {
    "collapsed": true
   },
   "outputs": [],
   "source": [
    "first, *rest = 'a', 3.14, [1, 2, 3]"
   ]
  },
  {
   "cell_type": "code",
   "execution_count": 63,
   "metadata": {},
   "outputs": [
    {
     "data": {
      "text/plain": [
       "'a'"
      ]
     },
     "execution_count": 63,
     "metadata": {},
     "output_type": "execute_result"
    }
   ],
   "source": [
    "first"
   ]
  },
  {
   "cell_type": "code",
   "execution_count": 64,
   "metadata": {},
   "outputs": [
    {
     "data": {
      "text/plain": [
       "[3.14, [1, 2, 3]]"
      ]
     },
     "execution_count": 64,
     "metadata": {},
     "output_type": "execute_result"
    }
   ],
   "source": [
    "rest"
   ]
  },
  {
   "cell_type": "code",
   "execution_count": 65,
   "metadata": {},
   "outputs": [
    {
     "name": "stdout",
     "output_type": "stream",
     "text": [
      "bran arya rickon hodor\n"
     ]
    }
   ],
   "source": [
    "def party_announcer(announcement, *guests):\n",
    "    # If we have more than 5 people at the party we need an official announcement of each guest\n",
    "    # otherwise we just print the names of the guests.\n",
    "    if len(guests) > 5:\n",
    "        for guest in guests:\n",
    "            print(announcement, guest)\n",
    "    else:\n",
    "        print(' '.join(guests))\n",
    "\n",
    "party_announcer('Introducing the one and only', 'bran', 'arya', 'rickon', 'hodor')"
   ]
  },
  {
   "cell_type": "code",
   "execution_count": 66,
   "metadata": {},
   "outputs": [
    {
     "name": "stdout",
     "output_type": "stream",
     "text": [
      "Introducing the one and only bran\n",
      "Introducing the one and only arya\n",
      "Introducing the one and only rickon\n",
      "Introducing the one and only hodor\n",
      "Introducing the one and only jon\n",
      "Introducing the one and only sansa\n"
     ]
    }
   ],
   "source": [
    "party_announcer('Introducing the one and only', 'bran', 'arya', 'rickon', 'hodor', 'jon', 'sansa')"
   ]
  },
  {
   "cell_type": "markdown",
   "metadata": {},
   "source": [
    "Typically you either deconstruct the number of args into variables, or you loop over all the arguments."
   ]
  },
  {
   "cell_type": "markdown",
   "metadata": {},
   "source": [
    "## Keyword Arguments \n",
    "\n",
    "We may also define default values for arguments.  These are called keyword arguments.  A default value is set for that parameter unless a value is specified.  These come last in a function header, and use an `=` to declare their default values.\n",
    "\n",
    "In the below example, **default1** and **default2** are the keyword arguments.\n",
    "\n",
    "example:\n",
    "\n",
    "```python\n",
    "\n",
    "def some_function(arg1, arg2, *optional_args, default1='example', default2=3):\n",
    "    pass\n",
    "```\n"
   ]
  },
  {
   "cell_type": "code",
   "execution_count": 67,
   "metadata": {
    "collapsed": true
   },
   "outputs": [],
   "source": [
    "def greet_friend(name, greeting='Hello there'):\n",
    "    print(greeting, name)"
   ]
  },
  {
   "cell_type": "code",
   "execution_count": 68,
   "metadata": {},
   "outputs": [
    {
     "name": "stdout",
     "output_type": "stream",
     "text": [
      "Hello there Tyrion\n"
     ]
    }
   ],
   "source": [
    "greet_friend('Tyrion')"
   ]
  },
  {
   "cell_type": "code",
   "execution_count": 69,
   "metadata": {},
   "outputs": [
    {
     "name": "stdout",
     "output_type": "stream",
     "text": [
      "Valar Morghulis Arya\n"
     ]
    }
   ],
   "source": [
    "greet_friend('Arya', greeting='Valar Morghulis')"
   ]
  },
  {
   "cell_type": "code",
   "execution_count": 70,
   "metadata": {},
   "outputs": [
    {
     "name": "stdout",
     "output_type": "stream",
     "text": [
      "Valar Morghulis Arya\n"
     ]
    }
   ],
   "source": [
    "greet_friend('Arya', 'Valar Morghulis') # if the positioning is right you don't need to use the argument name."
   ]
  },
  {
   "cell_type": "markdown",
   "metadata": {},
   "source": [
    "### WARNING\n",
    "\n",
    "Keyword Argument values are created once when the function is defined.  **DO NOT** use mutable values as defaults, as they persist between function calls.  If you want a default value to be a list or dictionary, you should set the default to `None` and then create the value in the function body."
   ]
  },
  {
   "cell_type": "code",
   "execution_count": 71,
   "metadata": {
    "collapsed": true
   },
   "outputs": [],
   "source": [
    "## WRONG\n",
    "def wrong(val, a=[]):\n",
    "    a.append(val)\n",
    "    return a\n",
    "\n",
    "## RIGHT\n",
    "def right(val, a=None):\n",
    "    if a is None:\n",
    "        a = []\n",
    "    a.append(val)\n",
    "    return a"
   ]
  },
  {
   "cell_type": "code",
   "execution_count": 72,
   "metadata": {},
   "outputs": [
    {
     "data": {
      "text/plain": [
       "['a']"
      ]
     },
     "execution_count": 72,
     "metadata": {},
     "output_type": "execute_result"
    }
   ],
   "source": [
    "wrong('a')"
   ]
  },
  {
   "cell_type": "code",
   "execution_count": 78,
   "metadata": {},
   "outputs": [
    {
     "data": {
      "text/plain": [
       "['a', 'b', 'b']"
      ]
     },
     "execution_count": 78,
     "metadata": {},
     "output_type": "execute_result"
    }
   ],
   "source": [
    "wrong('b')"
   ]
  },
  {
   "cell_type": "code",
   "execution_count": 79,
   "metadata": {},
   "outputs": [
    {
     "data": {
      "text/plain": [
       "['a']"
      ]
     },
     "execution_count": 79,
     "metadata": {},
     "output_type": "execute_result"
    }
   ],
   "source": [
    "right('a')"
   ]
  },
  {
   "cell_type": "code",
   "execution_count": 80,
   "metadata": {},
   "outputs": [
    {
     "data": {
      "text/plain": [
       "['b']"
      ]
     },
     "execution_count": 80,
     "metadata": {},
     "output_type": "execute_result"
    }
   ],
   "source": [
    "right('b')"
   ]
  },
  {
   "cell_type": "markdown",
   "metadata": {},
   "source": [
    "## Multiple Keyword Arguments (kwargs)\n",
    "\n",
    "This is something you may see and can confuse students, so I introduce it now.  I don't expect you'll have need of this feature in this class but you may see it used by others at some point.\n",
    "\n",
    "Just as functions can accept any number of positional arguments with *args, they can accept any number of keyword arguments with \\***kwargs.\n",
    "\n",
    "Whereas `*args` is stored as a tuple, `**kwargs` is stored as a dictionary."
   ]
  },
  {
   "cell_type": "code",
   "execution_count": 81,
   "metadata": {
    "collapsed": true
   },
   "outputs": [],
   "source": [
    "def describe_kwargs(**kwargs):\n",
    "    print('i have', len(kwargs), 'keyword arguments')\n",
    "    print('and it has type', type(kwargs))\n",
    "    print('and it has keys', kwargs.keys())"
   ]
  },
  {
   "cell_type": "code",
   "execution_count": 82,
   "metadata": {
    "scrolled": true
   },
   "outputs": [
    {
     "name": "stdout",
     "output_type": "stream",
     "text": [
      "i have 3 keyword arguments\n",
      "and it has type <class 'dict'>\n",
      "and it has keys dict_keys(['name', 'favorite_language', 'brothers'])\n"
     ]
    }
   ],
   "source": [
    "describe_kwargs(name='hassan', favorite_language='python', brothers=2)"
   ]
  },
  {
   "cell_type": "code",
   "execution_count": 89,
   "metadata": {
    "collapsed": true
   },
   "outputs": [],
   "source": [
    "def debug(some_val, **kwargs):\n",
    "    do_some_work(val)\n",
    "    if 'debug' in kwargs:\n",
    "        debug = kwargs.pop('debug')\n",
    "    more_work(debug)\n",
    "    \n",
    "    pandas.read_csv(**kwargs)"
   ]
  },
  {
   "cell_type": "code",
   "execution_count": 83,
   "metadata": {
    "collapsed": true
   },
   "outputs": [],
   "source": [
    "def add_four(a, b, c, d):\n",
    "    return a + b + c + d"
   ]
  },
  {
   "cell_type": "code",
   "execution_count": 85,
   "metadata": {
    "collapsed": true
   },
   "outputs": [],
   "source": [
    "example_tup = [1, 2, 3, 4]"
   ]
  },
  {
   "cell_type": "code",
   "execution_count": 87,
   "metadata": {},
   "outputs": [
    {
     "data": {
      "text/plain": [
       "10"
      ]
     },
     "execution_count": 87,
     "metadata": {},
     "output_type": "execute_result"
    }
   ],
   "source": [
    "add_four(example_tup[0], example_tup[1], example_tup[2], example_tup[3])"
   ]
  },
  {
   "cell_type": "code",
   "execution_count": 88,
   "metadata": {},
   "outputs": [
    {
     "data": {
      "text/plain": [
       "10"
      ]
     },
     "execution_count": 88,
     "metadata": {},
     "output_type": "execute_result"
    }
   ],
   "source": [
    "add_four(*example_tup)"
   ]
  },
  {
   "cell_type": "markdown",
   "metadata": {},
   "source": [
    "## Exception Handling\n",
    "\n",
    "So far, if we encounter an error (aka *exception*) our entire program crashes.  This is bad for real-world programs.  Instead we can detect errors and take appropriate actions to handle them and continue with our program."
   ]
  },
  {
   "cell_type": "code",
   "execution_count": 91,
   "metadata": {},
   "outputs": [
    {
     "name": "stdout",
     "output_type": "stream",
     "text": [
      "how old are you?23\n",
      "how old is your friend?3\n",
      "you are 7.666666666666667 times older than your friend\n"
     ]
    }
   ],
   "source": [
    "def compare_ages():\n",
    "    your_age = int(input('how old are you?'))\n",
    "    other_age = int(input('how old is your friend?'))\n",
    "    compared = your_age / other_age\n",
    "    print('you are', compared, 'times older than your friend')\n",
    "\n",
    "compare_ages()"
   ]
  },
  {
   "cell_type": "code",
   "execution_count": 92,
   "metadata": {},
   "outputs": [
    {
     "name": "stdout",
     "output_type": "stream",
     "text": [
      "how old are you?23\n",
      "how old is your friend?0\n"
     ]
    },
    {
     "ename": "ZeroDivisionError",
     "evalue": "division by zero",
     "output_type": "error",
     "traceback": [
      "\u001b[0;31m---------------------------------------------------------------------------\u001b[0m",
      "\u001b[0;31mZeroDivisionError\u001b[0m                         Traceback (most recent call last)",
      "\u001b[0;32m<ipython-input-92-19f8a85bba7c>\u001b[0m in \u001b[0;36m<module>\u001b[0;34m()\u001b[0m\n\u001b[0;32m----> 1\u001b[0;31m \u001b[0mcompare_ages\u001b[0m\u001b[0;34m(\u001b[0m\u001b[0;34m)\u001b[0m \u001b[0;31m# enter a 0 this time\u001b[0m\u001b[0;34m\u001b[0m\u001b[0m\n\u001b[0m",
      "\u001b[0;32m<ipython-input-91-3290141df7ed>\u001b[0m in \u001b[0;36mcompare_ages\u001b[0;34m()\u001b[0m\n\u001b[1;32m      2\u001b[0m     \u001b[0myour_age\u001b[0m \u001b[0;34m=\u001b[0m \u001b[0mint\u001b[0m\u001b[0;34m(\u001b[0m\u001b[0minput\u001b[0m\u001b[0;34m(\u001b[0m\u001b[0;34m'how old are you?'\u001b[0m\u001b[0;34m)\u001b[0m\u001b[0;34m)\u001b[0m\u001b[0;34m\u001b[0m\u001b[0m\n\u001b[1;32m      3\u001b[0m     \u001b[0mother_age\u001b[0m \u001b[0;34m=\u001b[0m \u001b[0mint\u001b[0m\u001b[0;34m(\u001b[0m\u001b[0minput\u001b[0m\u001b[0;34m(\u001b[0m\u001b[0;34m'how old is your friend?'\u001b[0m\u001b[0;34m)\u001b[0m\u001b[0;34m)\u001b[0m\u001b[0;34m\u001b[0m\u001b[0m\n\u001b[0;32m----> 4\u001b[0;31m     \u001b[0mcompared\u001b[0m \u001b[0;34m=\u001b[0m \u001b[0myour_age\u001b[0m \u001b[0;34m/\u001b[0m \u001b[0mother_age\u001b[0m\u001b[0;34m\u001b[0m\u001b[0m\n\u001b[0m\u001b[1;32m      5\u001b[0m     \u001b[0mprint\u001b[0m\u001b[0;34m(\u001b[0m\u001b[0;34m'you are'\u001b[0m\u001b[0;34m,\u001b[0m \u001b[0mcompared\u001b[0m\u001b[0;34m,\u001b[0m \u001b[0;34m'times older than your friend'\u001b[0m\u001b[0;34m)\u001b[0m\u001b[0;34m\u001b[0m\u001b[0m\n\u001b[1;32m      6\u001b[0m \u001b[0;34m\u001b[0m\u001b[0m\n",
      "\u001b[0;31mZeroDivisionError\u001b[0m: division by zero"
     ]
    }
   ],
   "source": [
    "compare_ages() # enter a 0 this time"
   ]
  },
  {
   "cell_type": "markdown",
   "metadata": {},
   "source": [
    "Errors can be handled with `try` and `except` statements. The code that could potentially have an error is put in a try clause. The program execution moves to the start of a following except clause if an error happens."
   ]
  },
  {
   "cell_type": "code",
   "execution_count": 93,
   "metadata": {
    "collapsed": true
   },
   "outputs": [],
   "source": [
    "def compare_ages():\n",
    "    your_age = int(input('how old are you?'))\n",
    "    other_age = int(input('how old is your friend?'))\n",
    "    try:\n",
    "        compared = your_age / other_age\n",
    "    except ZeroDivisionError:\n",
    "        compared = 'infinity'\n",
    "        \n",
    "    print('you are', compared, 'times older than your friend')\n"
   ]
  },
  {
   "cell_type": "markdown",
   "metadata": {},
   "source": [
    "When code in a try clause causes an error, the program execution immediately moves to the code in the except clause. After running that code, the execution continues as normal. The output of the previous program is as follows:"
   ]
  },
  {
   "cell_type": "code",
   "execution_count": 95,
   "metadata": {},
   "outputs": [
    {
     "name": "stdout",
     "output_type": "stream",
     "text": [
      "how old are you?hassan\n"
     ]
    },
    {
     "ename": "ValueError",
     "evalue": "invalid literal for int() with base 10: 'hassan'",
     "output_type": "error",
     "traceback": [
      "\u001b[0;31m---------------------------------------------------------------------------\u001b[0m",
      "\u001b[0;31mValueError\u001b[0m                                Traceback (most recent call last)",
      "\u001b[0;32m<ipython-input-95-417c73c39cdb>\u001b[0m in \u001b[0;36m<module>\u001b[0;34m()\u001b[0m\n\u001b[0;32m----> 1\u001b[0;31m \u001b[0mcompare_ages\u001b[0m\u001b[0;34m(\u001b[0m\u001b[0;34m)\u001b[0m\u001b[0;34m\u001b[0m\u001b[0m\n\u001b[0m",
      "\u001b[0;32m<ipython-input-93-12c93df36f42>\u001b[0m in \u001b[0;36mcompare_ages\u001b[0;34m()\u001b[0m\n\u001b[1;32m      1\u001b[0m \u001b[0;32mdef\u001b[0m \u001b[0mcompare_ages\u001b[0m\u001b[0;34m(\u001b[0m\u001b[0;34m)\u001b[0m\u001b[0;34m:\u001b[0m\u001b[0;34m\u001b[0m\u001b[0m\n\u001b[0;32m----> 2\u001b[0;31m     \u001b[0myour_age\u001b[0m \u001b[0;34m=\u001b[0m \u001b[0mint\u001b[0m\u001b[0;34m(\u001b[0m\u001b[0minput\u001b[0m\u001b[0;34m(\u001b[0m\u001b[0;34m'how old are you?'\u001b[0m\u001b[0;34m)\u001b[0m\u001b[0;34m)\u001b[0m\u001b[0;34m\u001b[0m\u001b[0m\n\u001b[0m\u001b[1;32m      3\u001b[0m     \u001b[0mother_age\u001b[0m \u001b[0;34m=\u001b[0m \u001b[0mint\u001b[0m\u001b[0;34m(\u001b[0m\u001b[0minput\u001b[0m\u001b[0;34m(\u001b[0m\u001b[0;34m'how old is your friend?'\u001b[0m\u001b[0;34m)\u001b[0m\u001b[0;34m)\u001b[0m\u001b[0;34m\u001b[0m\u001b[0m\n\u001b[1;32m      4\u001b[0m     \u001b[0;32mtry\u001b[0m\u001b[0;34m:\u001b[0m\u001b[0;34m\u001b[0m\u001b[0m\n\u001b[1;32m      5\u001b[0m         \u001b[0mcompared\u001b[0m \u001b[0;34m=\u001b[0m \u001b[0myour_age\u001b[0m \u001b[0;34m/\u001b[0m \u001b[0mother_age\u001b[0m\u001b[0;34m\u001b[0m\u001b[0m\n",
      "\u001b[0;31mValueError\u001b[0m: invalid literal for int() with base 10: 'hassan'"
     ]
    }
   ],
   "source": [
    "compare_ages()"
   ]
  },
  {
   "cell_type": "markdown",
   "metadata": {},
   "source": [
    "What if someone provides letters instead of a number?  What type of error do you get?\n",
    "\n",
    "Edit the `compare_ages` function to handle non-integer inputs. Print an error message when provided invalid input.  You can chain `except` clauses just like you can add multiple `elif` to an `if` clause.  Like so:\n",
    "\n",
    "```python\n",
    "try:\n",
    "    x + y\n",
    "except NameError:\n",
    "    print('could not find x or y')\n",
    "except TypeError:\n",
    "    print('Could not combine the two types')\n",
    "```\n"
   ]
  },
  {
   "cell_type": "markdown",
   "metadata": {},
   "source": [
    "Note that any errors that occur in function calls in a try block will also be caught. Consider the following program, which instead has the `compare_ages()` calls in the try block:"
   ]
  },
  {
   "cell_type": "code",
   "execution_count": 98,
   "metadata": {},
   "outputs": [
    {
     "name": "stdout",
     "output_type": "stream",
     "text": [
      "you are 1.0 times older than your friend\n",
      "you are 4.0 times older than your friend\n",
      "you are 2.5 times older than your friend\n",
      "Caught an error\n"
     ]
    }
   ],
   "source": [
    "def compare_ages(age1, age2): # Using arguments instead of input() for clarity\n",
    "    compared = age1 / age2\n",
    "    print('you are', compared, 'times older than your friend')\n",
    "\n",
    "try:\n",
    "    compare_ages(10, 10)\n",
    "    compare_ages(12, 3)\n",
    "    compare_ages(5, 2)\n",
    "    compare_ages(18, 0)\n",
    "    compare_ages(100, 1)\n",
    "except:\n",
    "    print('Caught an error')\n"
   ]
  },
  {
   "cell_type": "markdown",
   "metadata": {},
   "source": [
    "## Review Questions:\n",
    "1. How can you force a variable in a function to refer to the global variable?\n",
    "\n",
    "2. How many global scopes does a program have?\n",
    "\n",
    "3. How can you prevent a program from crashing when it gets an error?\n",
    "\n",
    "4. What goes in the try clause? What goes in the except clause?"
   ]
  },
  {
   "cell_type": "markdown",
   "metadata": {},
   "source": [
    "### Answers\n",
    "1. use the `global` keyword or refer to the variable without assigning it\n",
    "2. 1\n",
    "3. Use a try/except statements\n",
    "4. The code which may cause an error goes in the 'try' clause.  The code to execute in case of an error goes in the 'except' clause"
   ]
  },
  {
   "cell_type": "markdown",
   "metadata": {},
   "source": [
    "## Practice\n",
    "\n",
    "the function `range` accepts multiple number of arguments.\n",
    "\n",
    "If it's just 1 argument (n), it generates a range of 0 up to but not including n\n",
    "\n",
    "If it as 2 arguments(n, m) it generates a range of n up to but not including m.\n",
    "\n",
    "If it has 3 arguments (n, m, o) it generates a range of n up to but not including m, in steps of o\n",
    "\n",
    "Write a `myrange` function that does the same as above *except it generates inclusive ranges*.  **Don't** use the `range` function.  Instead use a loop and return a list of numbers representing that range.\n",
    "\n",
    "\n",
    "Examples:\n",
    "\n",
    "```python\n",
    "my_range(10) == [0, 1, 2, 3, 4, 5, 6, 7, 8, 9, 10]\n",
    "\n",
    "my_range(10, 15) == [10, 11, 12, 13, 14, 15]\n",
    "\n",
    "my_range(1, 10, 2) == [1, 3, 5, 7, 9]\n",
    "\n",
    "```\n",
    "\n",
    "The following scenarios should always be true:\n",
    "```python\n",
    "\n",
    "myrange(x) == list(range(x+1))\n",
    "\n",
    "myrange(x, y) == list(range(x, y+1))\n",
    "\n",
    "myrange(x, y, z) == list(range(x, y+1, z))\n",
    "\n",
    "```\n",
    "\n",
    "*Hint* It may be useful to assign multiple values at once.  For example:\n",
    "```python\n",
    "a, b, c, = (1, 2, 3)\n",
    "```\n"
   ]
  },
  {
   "cell_type": "code",
   "execution_count": 105,
   "metadata": {},
   "outputs": [
    {
     "data": {
      "text/plain": [
       "range(0, 3)"
      ]
     },
     "execution_count": 105,
     "metadata": {},
     "output_type": "execute_result"
    }
   ],
   "source": [
    "range(3)"
   ]
  },
  {
   "cell_type": "code",
   "execution_count": 100,
   "metadata": {},
   "outputs": [
    {
     "name": "stdout",
     "output_type": "stream",
     "text": [
      "hello there\n"
     ]
    }
   ],
   "source": [
    "print('hello', 'there')"
   ]
  },
  {
   "cell_type": "code",
   "execution_count": 104,
   "metadata": {},
   "outputs": [
    {
     "data": {
      "text/plain": [
       "[10, 12, 14, 16, 18]"
      ]
     },
     "execution_count": 104,
     "metadata": {},
     "output_type": "execute_result"
    }
   ],
   "source": [
    "list(range(10, 20, 2))"
   ]
  },
  {
   "cell_type": "code",
   "execution_count": null,
   "metadata": {
    "collapsed": true
   },
   "outputs": [],
   "source": []
  }
 ],
 "metadata": {
  "anaconda-cloud": {},
  "kernelspec": {
   "display_name": "Python 3",
   "language": "python",
   "name": "python3"
  },
  "language_info": {
   "codemirror_mode": {
    "name": "ipython",
    "version": 3
   },
   "file_extension": ".py",
   "mimetype": "text/x-python",
   "name": "python",
   "nbconvert_exporter": "python",
   "pygments_lexer": "ipython3",
   "version": "3.6.1"
  }
 },
 "nbformat": 4,
 "nbformat_minor": 1
}
