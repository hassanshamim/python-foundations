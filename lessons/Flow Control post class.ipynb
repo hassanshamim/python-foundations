{
 "cells": [
  {
   "cell_type": "markdown",
   "metadata": {
    "nbpresent": {
     "id": "d637990d-73b3-4512-9c49-4d1f95889c55"
    }
   },
   "source": [
    "# LESSON 4 - Flow Control\n",
    " - See [Chapter 2](https://automatetheboringstuff.com/chapter2/) of Automate the Boring Stuff (first half)\n",
    " - See [Chapter 5](http://greenteapress.com/thinkpython/html/thinkpython006.html) in Think Python (You can ignore the parts on recursion)\n",
    "    "
   ]
  },
  {
   "cell_type": "markdown",
   "metadata": {
    "nbpresent": {
     "id": "d04d1b70-d33f-4857-bc18-0ee3a6bab3e3"
    }
   },
   "source": [
    "# Flow Control\n",
    "- Telling your program *when* to run a line of code (not just in order)\n",
    "- Have to make decisions based on *something*\n",
    "## Example:\n",
    "![Example](https://automatetheboringstuff.com/images/000105.jpg)"
   ]
  },
  {
   "cell_type": "markdown",
   "metadata": {
    "nbpresent": {
     "id": "063b060a-658d-40d3-8924-6d13c42b67bf"
    }
   },
   "source": [
    "## Boolean Values\n",
    "- `True` and `False` (Notice the capitalization)\n",
    "\n",
    "\n",
    "### False Values\n",
    "- None\n",
    "- False\n",
    "- empty data structures: i.e. `''`, `[]`, `()`\n",
    "\n",
    "\n",
    "### True Values\n",
    "- True\n",
    "- Everything else"
   ]
  },
  {
   "cell_type": "markdown",
   "metadata": {
    "nbpresent": {
     "id": "f7eaaae5-7214-4d78-96e8-3c6828e970b7"
    }
   },
   "source": [
    "## Comparison Operators\n",
    "Used for comparing!  Always return a Boolean Value.\n",
    "- `==` equals\n",
    "- `!==` not equals\n",
    "- `<` less than\n",
    "- `>` greater than\n",
    "- `<=` less than or equals\n",
    "- `>=` greater than or equals\n",
    "\n",
    "Let's try some!"
   ]
  },
  {
   "cell_type": "code",
   "execution_count": null,
   "metadata": {
    "collapsed": true
   },
   "outputs": [],
   "source": [
    "time_of_visit = 15\n",
    "9 < time_of_visit < 18\n",
    "9 < time_of_visit and time_of_visit < 18\n"
   ]
  },
  {
   "cell_type": "code",
   "execution_count": 1,
   "metadata": {
    "collapsed": true
   },
   "outputs": [],
   "source": [
    "time_of_visit = 15"
   ]
  },
  {
   "cell_type": "code",
   "execution_count": 2,
   "metadata": {
    "scrolled": true
   },
   "outputs": [
    {
     "data": {
      "text/plain": [
       "True"
      ]
     },
     "execution_count": 2,
     "metadata": {},
     "output_type": "execute_result"
    }
   ],
   "source": [
    "9 < time_of_visit and time_of_visit < 18"
   ]
  },
  {
   "cell_type": "code",
   "execution_count": 3,
   "metadata": {},
   "outputs": [
    {
     "data": {
      "text/plain": [
       "True"
      ]
     },
     "execution_count": 3,
     "metadata": {},
     "output_type": "execute_result"
    }
   ],
   "source": [
    "9 < time_of_visit < 18"
   ]
  },
  {
   "cell_type": "code",
   "execution_count": 4,
   "metadata": {
    "nbpresent": {
     "id": "2d8ae656-faff-435f-8665-ecfa5f8eeb5b"
    }
   },
   "outputs": [
    {
     "data": {
      "text/plain": [
       "False"
      ]
     },
     "execution_count": 4,
     "metadata": {},
     "output_type": "execute_result"
    }
   ],
   "source": [
    "5 <= 3"
   ]
  },
  {
   "cell_type": "code",
   "execution_count": 5,
   "metadata": {},
   "outputs": [
    {
     "data": {
      "text/plain": [
       "True"
      ]
     },
     "execution_count": 5,
     "metadata": {},
     "output_type": "execute_result"
    }
   ],
   "source": [
    "4 != 3"
   ]
  },
  {
   "cell_type": "code",
   "execution_count": null,
   "metadata": {
    "collapsed": true
   },
   "outputs": [],
   "source": [
    "num_children =  0\n",
    "num_children <= 2.4"
   ]
  },
  {
   "cell_type": "code",
   "execution_count": 6,
   "metadata": {
    "nbpresent": {
     "id": "465b49fb-8d31-4e15-b7a7-95e888b886aa"
    }
   },
   "outputs": [
    {
     "data": {
      "text/plain": [
       "True"
      ]
     },
     "execution_count": 6,
     "metadata": {},
     "output_type": "execute_result"
    }
   ],
   "source": [
    "-1 != 1"
   ]
  },
  {
   "cell_type": "code",
   "execution_count": null,
   "metadata": {
    "collapsed": true,
    "nbpresent": {
     "id": "f7c518b5-5664-485e-8585-355600137783"
    }
   },
   "outputs": [],
   "source": [
    "0 >= 0"
   ]
  },
  {
   "cell_type": "code",
   "execution_count": null,
   "metadata": {
    "collapsed": true,
    "nbpresent": {
     "id": "55dac333-a04b-491a-8205-413f5a2afe34"
    }
   },
   "outputs": [],
   "source": [
    "me = 'hassan'\n",
    "other = 'bob'\n"
   ]
  },
  {
   "cell_type": "code",
   "execution_count": null,
   "metadata": {
    "collapsed": true
   },
   "outputs": [],
   "source": [
    "'Z' != 'a'"
   ]
  },
  {
   "cell_type": "code",
   "execution_count": 7,
   "metadata": {
    "nbpresent": {
     "id": "f9f80497-29db-4593-b25c-37069cc508e2"
    }
   },
   "outputs": [
    {
     "data": {
      "text/plain": [
       "True"
      ]
     },
     "execution_count": 7,
     "metadata": {},
     "output_type": "execute_result"
    }
   ],
   "source": [
    "3 ==3.0"
   ]
  },
  {
   "cell_type": "code",
   "execution_count": null,
   "metadata": {
    "collapsed": true,
    "nbpresent": {
     "id": "3e9d5396-ce36-44cf-871f-5facb130627b"
    }
   },
   "outputs": [],
   "source": [
    "3 = 3"
   ]
  },
  {
   "cell_type": "markdown",
   "metadata": {},
   "source": [
    "### Review:\n",
    "What's the difference between `=` and `==`?"
   ]
  },
  {
   "cell_type": "markdown",
   "metadata": {},
   "source": [
    "## Boolean Operators\n",
    "- **and**, **or** (Binary)\n",
    "- **not** (Unary)\n",
    "- In order of precedence: `and or not`\n",
    "\n",
    "I could explain what these do, but finding out ourselves with a truth table is just as easy."
   ]
  },
  {
   "cell_type": "code",
   "execution_count": 8,
   "metadata": {},
   "outputs": [
    {
     "data": {
      "text/plain": [
       "True"
      ]
     },
     "execution_count": 8,
     "metadata": {},
     "output_type": "execute_result"
    }
   ],
   "source": [
    "# I'll start\n",
    "True and True"
   ]
  },
  {
   "cell_type": "code",
   "execution_count": 9,
   "metadata": {
    "scrolled": true
   },
   "outputs": [
    {
     "data": {
      "text/plain": [
       "False"
      ]
     },
     "execution_count": 9,
     "metadata": {},
     "output_type": "execute_result"
    }
   ],
   "source": [
    "False and True"
   ]
  },
  {
   "cell_type": "code",
   "execution_count": 10,
   "metadata": {},
   "outputs": [
    {
     "data": {
      "text/plain": [
       "False"
      ]
     },
     "execution_count": 10,
     "metadata": {},
     "output_type": "execute_result"
    }
   ],
   "source": [
    "True and False"
   ]
  },
  {
   "cell_type": "code",
   "execution_count": 11,
   "metadata": {},
   "outputs": [
    {
     "data": {
      "text/plain": [
       "False"
      ]
     },
     "execution_count": 11,
     "metadata": {},
     "output_type": "execute_result"
    }
   ],
   "source": [
    "False and False"
   ]
  },
  {
   "cell_type": "code",
   "execution_count": 12,
   "metadata": {},
   "outputs": [
    {
     "data": {
      "text/plain": [
       "True"
      ]
     },
     "execution_count": 12,
     "metadata": {},
     "output_type": "execute_result"
    }
   ],
   "source": [
    "1 < 2 and 3 < 4"
   ]
  },
  {
   "cell_type": "code",
   "execution_count": 17,
   "metadata": {},
   "outputs": [
    {
     "data": {
      "text/plain": [
       "False"
      ]
     },
     "execution_count": 17,
     "metadata": {},
     "output_type": "execute_result"
    }
   ],
   "source": [
    "'a' in 'aardvark' and 3 > 4"
   ]
  },
  {
   "cell_type": "code",
   "execution_count": null,
   "metadata": {
    "collapsed": true
   },
   "outputs": [],
   "source": [
    "'a'"
   ]
  },
  {
   "cell_type": "code",
   "execution_count": 14,
   "metadata": {
    "collapsed": true
   },
   "outputs": [],
   "source": [
    "num = '12.3'"
   ]
  },
  {
   "cell_type": "code",
   "execution_count": 16,
   "metadata": {},
   "outputs": [
    {
     "data": {
      "text/plain": [
       "False"
      ]
     },
     "execution_count": 16,
     "metadata": {},
     "output_type": "execute_result"
    }
   ],
   "source": [
    "num.is"
   ]
  },
  {
   "cell_type": "code",
   "execution_count": null,
   "metadata": {
    "collapsed": true
   },
   "outputs": [],
   "source": []
  },
  {
   "cell_type": "code",
   "execution_count": 18,
   "metadata": {},
   "outputs": [
    {
     "data": {
      "text/plain": [
       "True"
      ]
     },
     "execution_count": 18,
     "metadata": {},
     "output_type": "execute_result"
    }
   ],
   "source": [
    "True or True"
   ]
  },
  {
   "cell_type": "code",
   "execution_count": 19,
   "metadata": {},
   "outputs": [
    {
     "data": {
      "text/plain": [
       "True"
      ]
     },
     "execution_count": 19,
     "metadata": {},
     "output_type": "execute_result"
    }
   ],
   "source": [
    "False or True"
   ]
  },
  {
   "cell_type": "code",
   "execution_count": 20,
   "metadata": {
    "scrolled": true
   },
   "outputs": [
    {
     "data": {
      "text/plain": [
       "True"
      ]
     },
     "execution_count": 20,
     "metadata": {},
     "output_type": "execute_result"
    }
   ],
   "source": [
    "True or False"
   ]
  },
  {
   "cell_type": "code",
   "execution_count": 21,
   "metadata": {
    "scrolled": true
   },
   "outputs": [
    {
     "data": {
      "text/plain": [
       "False"
      ]
     },
     "execution_count": 21,
     "metadata": {},
     "output_type": "execute_result"
    }
   ],
   "source": [
    "False or False"
   ]
  },
  {
   "cell_type": "code",
   "execution_count": 22,
   "metadata": {
    "scrolled": true
   },
   "outputs": [
    {
     "data": {
      "text/plain": [
       "False"
      ]
     },
     "execution_count": 22,
     "metadata": {},
     "output_type": "execute_result"
    }
   ],
   "source": [
    "not True"
   ]
  },
  {
   "cell_type": "code",
   "execution_count": 23,
   "metadata": {
    "scrolled": true
   },
   "outputs": [
    {
     "data": {
      "text/plain": [
       "True"
      ]
     },
     "execution_count": 23,
     "metadata": {},
     "output_type": "execute_result"
    }
   ],
   "source": [
    "not False"
   ]
  },
  {
   "cell_type": "code",
   "execution_count": null,
   "metadata": {
    "collapsed": true
   },
   "outputs": [],
   "source": []
  },
  {
   "cell_type": "code",
   "execution_count": 25,
   "metadata": {},
   "outputs": [
    {
     "data": {
      "text/plain": [
       "True"
      ]
     },
     "execution_count": 25,
     "metadata": {},
     "output_type": "execute_result"
    }
   ],
   "source": [
    "bool('a')"
   ]
  },
  {
   "cell_type": "code",
   "execution_count": 26,
   "metadata": {},
   "outputs": [
    {
     "data": {
      "text/plain": [
       "False"
      ]
     },
     "execution_count": 26,
     "metadata": {},
     "output_type": "execute_result"
    }
   ],
   "source": [
    "bool('')"
   ]
  },
  {
   "cell_type": "code",
   "execution_count": 27,
   "metadata": {},
   "outputs": [
    {
     "data": {
      "text/plain": [
       "0"
      ]
     },
     "execution_count": 27,
     "metadata": {},
     "output_type": "execute_result"
    }
   ],
   "source": [
    "0 and 2"
   ]
  },
  {
   "cell_type": "code",
   "execution_count": 30,
   "metadata": {
    "collapsed": true
   },
   "outputs": [],
   "source": [
    "data = ['a', 'b', 'c']"
   ]
  },
  {
   "cell_type": "code",
   "execution_count": 31,
   "metadata": {},
   "outputs": [
    {
     "name": "stdout",
     "output_type": "stream",
     "text": [
      "c\n",
      "b\n",
      "a\n"
     ]
    }
   ],
   "source": [
    "while len(data) > 0:\n",
    "    print(data.pop())"
   ]
  },
  {
   "cell_type": "code",
   "execution_count": 32,
   "metadata": {},
   "outputs": [
    {
     "name": "stdout",
     "output_type": "stream",
     "text": [
      "1\n",
      "2\n",
      "3\n",
      "4\n",
      "5\n",
      "6\n",
      "7\n",
      "8\n",
      "9\n",
      "10\n"
     ]
    }
   ],
   "source": [
    "for number in range(1, 11): \n",
    "    print(number)"
   ]
  },
  {
   "cell_type": "code",
   "execution_count": 33,
   "metadata": {},
   "outputs": [
    {
     "name": "stdout",
     "output_type": "stream",
     "text": [
      "1\n",
      "2\n",
      "3\n",
      "4\n",
      "5\n",
      "6\n",
      "7\n",
      "8\n",
      "9\n",
      "10\n"
     ]
    }
   ],
   "source": [
    "number = 1\n",
    "while number <= 10:\n",
    "    print(number)\n",
    "    number += 1"
   ]
  },
  {
   "cell_type": "code",
   "execution_count": null,
   "metadata": {
    "collapsed": true
   },
   "outputs": [],
   "source": [
    "age = 20\n",
    "not age > 18"
   ]
  },
  {
   "cell_type": "code",
   "execution_count": 34,
   "metadata": {},
   "outputs": [
    {
     "data": {
      "text/plain": [
       "True"
      ]
     },
     "execution_count": 34,
     "metadata": {},
     "output_type": "execute_result"
    }
   ],
   "source": [
    "bool(3)"
   ]
  },
  {
   "cell_type": "code",
   "execution_count": 35,
   "metadata": {},
   "outputs": [
    {
     "data": {
      "text/plain": [
       "True"
      ]
     },
     "execution_count": 35,
     "metadata": {},
     "output_type": "execute_result"
    }
   ],
   "source": [
    "bool(3.13)"
   ]
  },
  {
   "cell_type": "markdown",
   "metadata": {},
   "source": [
    "### A Note on `not not` and `bool`:"
   ]
  },
  {
   "cell_type": "code",
   "execution_count": 37,
   "metadata": {},
   "outputs": [
    {
     "data": {
      "text/plain": [
       "False"
      ]
     },
     "execution_count": 37,
     "metadata": {},
     "output_type": "execute_result"
    }
   ],
   "source": [
    "not not 0"
   ]
  },
  {
   "cell_type": "code",
   "execution_count": null,
   "metadata": {
    "collapsed": true
   },
   "outputs": [],
   "source": [
    "bool"
   ]
  },
  {
   "cell_type": "code",
   "execution_count": null,
   "metadata": {
    "collapsed": true
   },
   "outputs": [],
   "source": []
  },
  {
   "cell_type": "markdown",
   "metadata": {},
   "source": [
    "## Mixing Boolean and Comparison Operators"
   ]
  },
  {
   "cell_type": "code",
   "execution_count": 38,
   "metadata": {},
   "outputs": [
    {
     "data": {
      "text/plain": [
       "True"
      ]
     },
     "execution_count": 38,
     "metadata": {},
     "output_type": "execute_result"
    }
   ],
   "source": [
    "# Abritrary example:\n",
    "(3 < 4) or (0 == 30)"
   ]
  },
  {
   "cell_type": "code",
   "execution_count": null,
   "metadata": {
    "collapsed": true
   },
   "outputs": [],
   "source": [
    "# Longer arbitrary example\n",
    "2 + 2 == 4 and not 2 + 2 == 5 and 2 * 2 == 2 + 2"
   ]
  },
  {
   "cell_type": "code",
   "execution_count": 40,
   "metadata": {
    "collapsed": true
   },
   "outputs": [],
   "source": [
    "valid_input = 2 + 2 == 4"
   ]
  },
  {
   "cell_type": "code",
   "execution_count": null,
   "metadata": {
    "collapsed": true
   },
   "outputs": [],
   "source": [
    "4 == 4 and not 4 != 5 and 4 == 4"
   ]
  },
  {
   "cell_type": "code",
   "execution_count": null,
   "metadata": {
    "collapsed": true
   },
   "outputs": [],
   "source": [
    "True and not False and True"
   ]
  },
  {
   "cell_type": "code",
   "execution_count": null,
   "metadata": {
    "collapsed": true
   },
   "outputs": [],
   "source": [
    "True and True and True"
   ]
  },
  {
   "cell_type": "code",
   "execution_count": null,
   "metadata": {
    "collapsed": true,
    "scrolled": true
   },
   "outputs": [],
   "source": [
    "True and True\n"
   ]
  },
  {
   "cell_type": "code",
   "execution_count": null,
   "metadata": {
    "collapsed": true
   },
   "outputs": [],
   "source": [
    "(not 4) == 5"
   ]
  },
  {
   "cell_type": "code",
   "execution_count": null,
   "metadata": {
    "collapsed": true
   },
   "outputs": [],
   "source": [
    "# Longer arbitrary example\n",
    "2 + 2 == 4 and not 2 + 2 == 5 and 2 * 2 == 2 + 2"
   ]
  },
  {
   "cell_type": "code",
   "execution_count": 41,
   "metadata": {},
   "outputs": [
    {
     "data": {
      "text/plain": [
       "True"
      ]
     },
     "execution_count": 41,
     "metadata": {},
     "output_type": "execute_result"
    }
   ],
   "source": [
    "# Can we eat pizza everyday?\n",
    "age_of_maturity = 24\n",
    "my_age =  18\n",
    "my_age >= 18 and my_age < age_of_maturity"
   ]
  },
  {
   "cell_type": "markdown",
   "metadata": {},
   "source": [
    "## Elements of Flow Control:\n",
    "1. Conditions\n",
    " - Evaluate down to a boolean (True or False)\n",
    " - One or more comparison/boolean operators\n",
    "2. Block of code\n",
    " - What gets run when condition is met\n",
    " - Separated by indentation (4 spaces by convention)\n",
    " - Can contain other conditions/blocks\n",
    " - end when indentation stops or goes back to a parent block's indendtation level"
   ]
  },
  {
   "cell_type": "code",
   "execution_count": 50,
   "metadata": {
    "collapsed": true
   },
   "outputs": [],
   "source": [
    "my_age = 1\n",
    "my_name = 'Hassan'\n",
    "if my_name != 'Hassan':\n",
    "    print('You are not Hassan')\n",
    "    if my_age % 10 == 0:\n",
    "        print(\"But it's a big year for you eh?\")\n",
    "    else:\n",
    "        print(str(my_age) + \" isn't a big deal.\")"
   ]
  },
  {
   "cell_type": "code",
   "execution_count": 51,
   "metadata": {},
   "outputs": [
    {
     "name": "stdout",
     "output_type": "stream",
     "text": [
      "1 isn't a big deal.\n"
     ]
    }
   ],
   "source": [
    "if my_name != 'Hassan':\n",
    "    print('You are not Hassan')\n",
    "\n",
    "if my_name != 'hassan' and is_divisible_by_10(my_age):\n",
    "    print(\"But it's a big year for you eh?\")\n",
    "    \n",
    "if my_name != 'hassan' and my_age %10 != 0:\n",
    "    print(str(my_age) + \" isn't a big deal.\")"
   ]
  },
  {
   "cell_type": "code",
   "execution_count": 54,
   "metadata": {
    "collapsed": true
   },
   "outputs": [],
   "source": [
    "def is_divisible_by_10(number):\n",
    "    return number % 10 == 0"
   ]
  },
  {
   "cell_type": "code",
   "execution_count": 43,
   "metadata": {
    "collapsed": true
   },
   "outputs": [],
   "source": [
    "x = 33"
   ]
  },
  {
   "cell_type": "code",
   "execution_count": 52,
   "metadata": {},
   "outputs": [
    {
     "data": {
      "text/plain": [
       "3"
      ]
     },
     "execution_count": 52,
     "metadata": {},
     "output_type": "execute_result"
    }
   ],
   "source": [
    "x  % 10"
   ]
  },
  {
   "cell_type": "code",
   "execution_count": null,
   "metadata": {
    "collapsed": true
   },
   "outputs": [],
   "source": []
  },
  {
   "cell_type": "code",
   "execution_count": 44,
   "metadata": {},
   "outputs": [
    {
     "data": {
      "text/plain": [
       "False"
      ]
     },
     "execution_count": 44,
     "metadata": {},
     "output_type": "execute_result"
    }
   ],
   "source": [
    "x % 10 == 0"
   ]
  },
  {
   "cell_type": "code",
   "execution_count": 45,
   "metadata": {},
   "outputs": [
    {
     "data": {
      "text/plain": [
       "False"
      ]
     },
     "execution_count": 45,
     "metadata": {},
     "output_type": "execute_result"
    }
   ],
   "source": [
    "not x % 10"
   ]
  },
  {
   "cell_type": "markdown",
   "metadata": {},
   "source": [
    "## Flow Control Statements:\n"
   ]
  },
  {
   "cell_type": "markdown",
   "metadata": {},
   "source": [
    "- `if` - executes block when condition is `True`\n",
    "- `else` (optional) - no specific condition.  Executes if previous conditions are not met.  Is the 'fallback'\n",
    "- `elif` (optional) - follows an `if`, takes a condition.  Only checks condition if previous `if` condition was False.  Multiple `elif`s are fine."
   ]
  },
  {
   "cell_type": "code",
   "execution_count": null,
   "metadata": {
    "collapsed": true
   },
   "outputs": [],
   "source": []
  },
  {
   "cell_type": "markdown",
   "metadata": {},
   "source": [
    "Let's try adding an `elif` to our previous condition and output a different message if your age ends in 9"
   ]
  },
  {
   "cell_type": "code",
   "execution_count": 62,
   "metadata": {
    "collapsed": true
   },
   "outputs": [],
   "source": [
    "my_age = 10"
   ]
  },
  {
   "cell_type": "code",
   "execution_count": 63,
   "metadata": {},
   "outputs": [
    {
     "name": "stdout",
     "output_type": "stream",
     "text": [
      "big year for you\n"
     ]
    }
   ],
   "source": [
    "if not my_age % 10 == 0:\n",
    "    print('big year for you')\n",
    "\n",
    "elif my_age % 10 == 9:\n",
    "    print('almost there!')\n",
    "\n",
    "elif my_age % 10 == 1:\n",
    "    print('just missed it!')\n",
    "\n",
    "else:\n",
    "    print('no big deal')"
   ]
  },
  {
   "cell_type": "code",
   "execution_count": null,
   "metadata": {
    "collapsed": true
   },
   "outputs": [],
   "source": []
  },
  {
   "cell_type": "code",
   "execution_count": null,
   "metadata": {
    "collapsed": true
   },
   "outputs": [],
   "source": []
  },
  {
   "cell_type": "code",
   "execution_count": null,
   "metadata": {
    "collapsed": true
   },
   "outputs": [],
   "source": []
  },
  {
   "cell_type": "code",
   "execution_count": null,
   "metadata": {
    "collapsed": true
   },
   "outputs": [],
   "source": []
  },
  {
   "cell_type": "code",
   "execution_count": null,
   "metadata": {
    "collapsed": true
   },
   "outputs": [],
   "source": []
  },
  {
   "cell_type": "markdown",
   "metadata": {
    "collapsed": true
   },
   "source": [
    "|       |       | And   | Or    |   |\n",
    "|-------|-------|-------|-------|---|\n",
    "| True  | False | False | True  |   |\n",
    "| True  | True  | True  | True  |   |\n",
    "| False | False | False | False |   |"
   ]
  },
  {
   "cell_type": "markdown",
   "metadata": {},
   "source": [
    "## Practice Questions\n",
    "1. Name the two types of Boolean Values\n",
    "    - **True** and **False**\n",
    "2. Write a Truth table of the boolean operators (every possible combination of boolean values to an operator and what they evaluate to)\n",
    "\n",
    "|       |       | And   | Or    |   |\n",
    "|-------|-------|-------|-------|---|\n",
    "| True  | False | False | True  |   |\n",
    "| True  | True  | True  | True  |   |\n",
    "| False | False | False | False |   |\n",
    "\n",
    "3. What do the following expressions evaluate to?\n",
    "\n",
    "\n",
    "- (5 > 4) and (3 == 5)\n",
    "    - **False**\n",
    "- not (5 > 4)\n",
    "    - **False**\n",
    "- (5 > 4) or (3 == 5)\n",
    "    - **True**\n",
    "- not ((5 > 4) or (3 == 5))\n",
    "    - **False**\n",
    "- (True and True) and (True == False)\n",
    "    - **False**\n",
    "- (not False) or (not True)\n",
    "    - **True**\n",
    "\n",
    "\n",
    "1. Explain what a condition is and where you would use one.\n",
    "    - a condition checks the boolean value of an expression and executes one or more lines of code depending on the result.  We use them to handle multiple scenarios in our code - mostly to select which lines of code (i.e. set of instructions) to run.  This allows our code to be dynamic\n",
    "2. 8. Identify the three blocks in this code:\n",
    "\n",
    "```\n",
    "spam = 0\n",
    "if spam == 10:\n",
    "    print('eggs')\n",
    "    if spam > 5:\n",
    "        print('bacon')\n",
    "    else:\n",
    "        print('ham')\n",
    "    print('spam')\n",
    "print('spam')\n",
    "\n",
    "```\n",
    "\n",
    "    - Block one is the indented code below the first `if` condition\n",
    "    - Block two is the indented code below `if spam > 5:`\n",
    "    - Block three is the indented code below the `else` statement\n",
    "\n",
    "3. What's the difference between an assignment operator and the equal operator?  Which is an expression?\n",
    "    - **Assignment operator (=) attaches a value to a function, whereas equality (==) checks if two objects are considered equal and returns a True or False.  Equality operator is the expression.**"
   ]
  },
  {
   "cell_type": "markdown",
   "metadata": {},
   "source": [
    "## Practice Problems"
   ]
  },
  {
   "cell_type": "markdown",
   "metadata": {},
   "source": [
    "#### Collatz Conjecture\n",
    "![relevant xkcd](https://imgs.xkcd.com/comics/collatz_conjecture.png)\n",
    "\n",
    "Actually says:\n",
    "1. If the number is even, divide it by two.\n",
    "2. If the number is odd, triple it and add one.\n",
    "3. This process will always end in the number `1`\n",
    "\n",
    "\n",
    "Write a program that takes a number from 1 to 100 and prints out the steps of the collatz sequence.  The last value printed should be 1."
   ]
  },
  {
   "cell_type": "markdown",
   "metadata": {},
   "source": [
    "start with 8\n",
    "next is 4\n",
    "next 2\n",
    "next 1"
   ]
  },
  {
   "cell_type": "code",
   "execution_count": 70,
   "metadata": {
    "collapsed": true
   },
   "outputs": [],
   "source": [
    "def collatz(number):\n",
    "    while number > 1:\n",
    "        if number % 2 == 0:\n",
    "            number = number // 2\n",
    "        else:\n",
    "            number = number * 3 + 1\n",
    "        print('number is now', number)"
   ]
  },
  {
   "cell_type": "code",
   "execution_count": 69,
   "metadata": {},
   "outputs": [
    {
     "name": "stdout",
     "output_type": "stream",
     "text": [
      "number is now 214\n",
      "number is now 107\n",
      "number is now 322\n",
      "number is now 161\n",
      "number is now 484\n",
      "number is now 242\n",
      "number is now 121\n",
      "number is now 364\n",
      "number is now 182\n",
      "number is now 91\n",
      "number is now 274\n",
      "number is now 137\n",
      "number is now 412\n",
      "number is now 206\n",
      "number is now 103\n",
      "number is now 310\n",
      "number is now 155\n",
      "number is now 466\n",
      "number is now 233\n",
      "number is now 700\n",
      "number is now 350\n",
      "number is now 175\n",
      "number is now 526\n",
      "number is now 263\n",
      "number is now 790\n",
      "number is now 395\n",
      "number is now 1186\n",
      "number is now 593\n",
      "number is now 1780\n",
      "number is now 890\n",
      "number is now 445\n",
      "number is now 1336\n",
      "number is now 668\n",
      "number is now 334\n",
      "number is now 167\n",
      "number is now 502\n",
      "number is now 251\n",
      "number is now 754\n",
      "number is now 377\n",
      "number is now 1132\n",
      "number is now 566\n",
      "number is now 283\n",
      "number is now 850\n",
      "number is now 425\n",
      "number is now 1276\n",
      "number is now 638\n",
      "number is now 319\n",
      "number is now 958\n",
      "number is now 479\n",
      "number is now 1438\n",
      "number is now 719\n",
      "number is now 2158\n",
      "number is now 1079\n",
      "number is now 3238\n",
      "number is now 1619\n",
      "number is now 4858\n",
      "number is now 2429\n",
      "number is now 7288\n",
      "number is now 3644\n",
      "number is now 1822\n",
      "number is now 911\n",
      "number is now 2734\n",
      "number is now 1367\n",
      "number is now 4102\n",
      "number is now 2051\n",
      "number is now 6154\n",
      "number is now 3077\n",
      "number is now 9232\n",
      "number is now 4616\n",
      "number is now 2308\n",
      "number is now 1154\n",
      "number is now 577\n",
      "number is now 1732\n",
      "number is now 866\n",
      "number is now 433\n",
      "number is now 1300\n",
      "number is now 650\n",
      "number is now 325\n",
      "number is now 976\n",
      "number is now 488\n",
      "number is now 244\n",
      "number is now 122\n",
      "number is now 61\n",
      "number is now 184\n",
      "number is now 92\n",
      "number is now 46\n",
      "number is now 23\n",
      "number is now 70\n",
      "number is now 35\n",
      "number is now 106\n",
      "number is now 53\n",
      "number is now 160\n",
      "number is now 80\n",
      "number is now 40\n",
      "number is now 20\n",
      "number is now 10\n",
      "number is now 5\n",
      "number is now 16\n",
      "number is now 8\n",
      "number is now 4\n",
      "number is now 2\n",
      "number is now 1\n"
     ]
    }
   ],
   "source": [
    "collatz(71)"
   ]
  },
  {
   "cell_type": "markdown",
   "metadata": {},
   "source": [
    "#### FizzBuzz\n",
    "For the numbers 1 through 100\n",
    "- If the number is divisible by 3 print 'Fizz'\n",
    "- If the number is divisible by 5 print 'Buzz'\n",
    "- If the number is divisible by both 3 and 5 print 'FizzBuzz'\n",
    "- otherwis, print the number"
   ]
  },
  {
   "cell_type": "code",
   "execution_count": 2,
   "metadata": {},
   "outputs": [
    {
     "name": "stdout",
     "output_type": "stream",
     "text": [
      "1\n",
      "2\n",
      "Fizz\n",
      "4\n",
      "Buzz\n",
      "Fizz\n",
      "7\n",
      "8\n",
      "Fizz\n",
      "Buzz\n",
      "11\n",
      "Fizz\n",
      "13\n",
      "14\n",
      "FizzBuzz\n",
      "16\n",
      "17\n",
      "Fizz\n",
      "19\n",
      "Buzz\n",
      "Fizz\n",
      "22\n",
      "23\n",
      "Fizz\n",
      "Buzz\n",
      "26\n",
      "Fizz\n",
      "28\n",
      "29\n",
      "FizzBuzz\n",
      "31\n",
      "32\n",
      "Fizz\n",
      "34\n",
      "Buzz\n",
      "Fizz\n",
      "37\n",
      "38\n",
      "Fizz\n",
      "Buzz\n",
      "41\n",
      "Fizz\n",
      "43\n",
      "44\n",
      "FizzBuzz\n",
      "46\n",
      "47\n",
      "Fizz\n",
      "49\n",
      "Buzz\n",
      "Fizz\n",
      "52\n",
      "53\n",
      "Fizz\n",
      "Buzz\n",
      "56\n",
      "Fizz\n",
      "58\n",
      "59\n",
      "FizzBuzz\n",
      "61\n",
      "62\n",
      "Fizz\n",
      "64\n",
      "Buzz\n",
      "Fizz\n",
      "67\n",
      "68\n",
      "Fizz\n",
      "Buzz\n",
      "71\n",
      "Fizz\n",
      "73\n",
      "74\n",
      "FizzBuzz\n",
      "76\n",
      "77\n",
      "Fizz\n",
      "79\n",
      "Buzz\n",
      "Fizz\n",
      "82\n",
      "83\n",
      "Fizz\n",
      "Buzz\n",
      "86\n",
      "Fizz\n",
      "88\n",
      "89\n",
      "FizzBuzz\n",
      "91\n",
      "92\n",
      "Fizz\n",
      "94\n",
      "Buzz\n",
      "Fizz\n",
      "97\n",
      "98\n",
      "Fizz\n",
      "Buzz\n"
     ]
    }
   ],
   "source": [
    "def fizzbuzz(number):\n",
    "    if number % 15 == 0:\n",
    "        return 'FizzBuzz'\n",
    "    elif number % 5 == 0:\n",
    "        return 'Buzz'\n",
    "    elif number % 3 == 0:\n",
    "        return 'Fizz'\n",
    "    else:\n",
    "        return number\n",
    "    \n",
    "for i in range(1, 101):\n",
    "    print(fizzbuzz(i))"
   ]
  },
  {
   "cell_type": "markdown",
   "metadata": {
    "collapsed": true
   },
   "source": [
    "#### Leap Year:\n",
    "1. Years divisible by 4 are leap years.\n",
    "2. Years divisble by 100 are not leap years\n",
    "3. Years divisible by 400 are always leap years"
   ]
  },
  {
   "cell_type": "code",
   "execution_count": 4,
   "metadata": {
    "collapsed": true
   },
   "outputs": [],
   "source": [
    "# Note: there are many ways to structure these conditionals.  Yours may not look the same but may still be correct\n",
    "def leap_year(year):\n",
    "    if year % 400 == 0:\n",
    "        return True\n",
    "    elif year % 100 == 0:\n",
    "        return False\n",
    "    elif year % 4 == 0:\n",
    "        return True\n",
    "    return False"
   ]
  },
  {
   "cell_type": "code",
   "execution_count": 5,
   "metadata": {},
   "outputs": [
    {
     "data": {
      "text/plain": [
       "True"
      ]
     },
     "execution_count": 5,
     "metadata": {},
     "output_type": "execute_result"
    }
   ],
   "source": [
    "leap_year(2000)"
   ]
  },
  {
   "cell_type": "code",
   "execution_count": 6,
   "metadata": {},
   "outputs": [
    {
     "data": {
      "text/plain": [
       "False"
      ]
     },
     "execution_count": 6,
     "metadata": {},
     "output_type": "execute_result"
    }
   ],
   "source": [
    "leap_year(2003)"
   ]
  },
  {
   "cell_type": "code",
   "execution_count": 7,
   "metadata": {},
   "outputs": [
    {
     "data": {
      "text/plain": [
       "False"
      ]
     },
     "execution_count": 7,
     "metadata": {},
     "output_type": "execute_result"
    }
   ],
   "source": [
    "leap_year(1900)"
   ]
  },
  {
   "cell_type": "code",
   "execution_count": null,
   "metadata": {
    "collapsed": true
   },
   "outputs": [],
   "source": []
  }
 ],
 "metadata": {
  "anaconda-cloud": {},
  "kernelspec": {
   "display_name": "Python 3",
   "language": "python",
   "name": "python3"
  },
  "language_info": {
   "codemirror_mode": {
    "name": "ipython",
    "version": 3
   },
   "file_extension": ".py",
   "mimetype": "text/x-python",
   "name": "python",
   "nbconvert_exporter": "python",
   "pygments_lexer": "ipython3",
   "version": "3.6.1"
  }
 },
 "nbformat": 4,
 "nbformat_minor": 1
}
