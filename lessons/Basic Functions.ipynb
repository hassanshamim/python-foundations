{
 "cells": [
  {
   "cell_type": "markdown",
   "metadata": {},
   "source": [
    "### Simple Functions\n",
    "\n",
    "We've already been exposed to some common functions:\n",
    "- str()\n",
    "- len()\n",
    "- help()\n",
    "\n",
    "Today, we'll learn how to create our own simple functions.  There are more advanced concepts we will cover in the future.\n",
    "\n",
    "\n",
    "### Anatomy:\n",
    "\n",
    "```python\n",
    "def name_of_function(data_it_needs):\n",
    "    return 'some output'\n",
    "```\n",
    "\n",
    "All function definitions start with `def` followed by the function name, parentheses (any  **arguments** aka **parameters** it needs), then a colon and new line.\n",
    "\n",
    "The function body is indented (4 spaces) and can be multiple lines.  When a value is `return`ed then the function stops and you the output is the value returned.\n",
    "\n",
    "From math, we may be familiar functions written as:\n",
    "\n",
    "`y = 4x + 2` \n",
    "\n",
    "or\n",
    "\n",
    "`f(x) = 4x + 2`\n",
    "\n",
    "the python equivalent would be:\n",
    "\n",
    "```python\n",
    "def f(x):\n",
    "    return 4*x + 2\n",
    "```\n",
    "\n",
    "If a function does not have a return statement, then `None` is the value returned.\n",
    "\n",
    "Once defined, a function is **called** or **invoked** by putting parentheses after the function name and passing in any needed arguments.\n",
    "\n",
    "\n",
    "### What's the point?\n",
    "There are **many** good reasons why functions are the essential building block of computer programs, but for now it gives us two things:\n",
    "\n",
    "- reusabililty: Once you define a function you can call it as many times as you want\n",
    "- readability: `celsius_to_fahrenheit(-40)` is easier to understand than   `-40 * 9/5 + 32`"
   ]
  },
  {
   "cell_type": "code",
   "execution_count": null,
   "metadata": {
    "collapsed": true
   },
   "outputs": [],
   "source": [
    "# Example"
   ]
  },
  {
   "cell_type": "code",
   "execution_count": null,
   "metadata": {
    "collapsed": true
   },
   "outputs": [],
   "source": [
    "def double(number):\n",
    "    return number * 2"
   ]
  },
  {
   "cell_type": "code",
   "execution_count": null,
   "metadata": {},
   "outputs": [],
   "source": [
    "double # the name of the function"
   ]
  },
  {
   "cell_type": "code",
   "execution_count": null,
   "metadata": {},
   "outputs": [],
   "source": [
    "double(42) # calling the function"
   ]
  },
  {
   "cell_type": "code",
   "execution_count": null,
   "metadata": {
    "scrolled": true
   },
   "outputs": [],
   "source": [
    "double(84)"
   ]
  },
  {
   "cell_type": "markdown",
   "metadata": {},
   "source": [
    "Functions can be called inside other functions.  This allows us to 'build up' more complex processes from basic ones."
   ]
  },
  {
   "cell_type": "code",
   "execution_count": null,
   "metadata": {
    "collapsed": true
   },
   "outputs": [],
   "source": [
    "def say_hello():\n",
    "    print('hello')"
   ]
  },
  {
   "cell_type": "code",
   "execution_count": null,
   "metadata": {
    "collapsed": true
   },
   "outputs": [],
   "source": [
    "def say_hello_twice():\n",
    "    say_hello()\n",
    "    say_hello()"
   ]
  },
  {
   "cell_type": "code",
   "execution_count": null,
   "metadata": {},
   "outputs": [],
   "source": [
    "say_hello_twice()"
   ]
  },
  {
   "cell_type": "markdown",
   "metadata": {},
   "source": [
    "Functions can access variables inside and outside the function, but for now let's just pass them in."
   ]
  },
  {
   "cell_type": "code",
   "execution_count": null,
   "metadata": {
    "collapsed": true
   },
   "outputs": [],
   "source": [
    "# Possible\n",
    "def say_my_name():\n",
    "    message = 'your name is ' + name\n",
    "    print(message)"
   ]
  },
  {
   "cell_type": "code",
   "execution_count": null,
   "metadata": {},
   "outputs": [],
   "source": [
    "name = 'Pooh Bear'\n",
    "say_my_name()"
   ]
  },
  {
   "cell_type": "code",
   "execution_count": null,
   "metadata": {
    "collapsed": true
   },
   "outputs": [],
   "source": [
    "# Better\n",
    "def say_my_name(name):\n",
    "    message = 'your name is ' + name\n",
    "    print(message)"
   ]
  },
  {
   "cell_type": "code",
   "execution_count": null,
   "metadata": {},
   "outputs": [],
   "source": [
    "name = 'Tigger'\n",
    "say_my_name(name)"
   ]
  },
  {
   "cell_type": "code",
   "execution_count": null,
   "metadata": {
    "collapsed": true
   },
   "outputs": [],
   "source": []
  }
 ],
 "metadata": {
  "kernelspec": {
   "display_name": "Python 3",
   "language": "python",
   "name": "python3"
  },
  "language_info": {
   "codemirror_mode": {
    "name": "ipython",
    "version": 3
   },
   "file_extension": ".py",
   "mimetype": "text/x-python",
   "name": "python",
   "nbconvert_exporter": "python",
   "pygments_lexer": "ipython3",
   "version": "3.6.1"
  }
 },
 "nbformat": 4,
 "nbformat_minor": 2
}
